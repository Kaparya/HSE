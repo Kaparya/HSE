{
  "cells": [
    {
      "cell_type": "markdown",
      "metadata": {
        "id": "Ffq6A2-ifzAA"
      },
      "source": [
        "# Интеллектуальный анализ данных – весна 2024\n",
        "# Домашнее задание 6: классификация текстов"
      ]
    },
    {
      "cell_type": "markdown",
      "source": [
        "Правила:\n",
        "\n",
        "\n",
        "\n",
        "*   Домашнее задание оценивается в 10 баллов.\n",
        "*   Можно использовать без доказательства любые результаты, встречавшиеся на лекциях или семинарах по курсу, если получение этих результатов не является вопросом задания.\n",
        "*  Можно использовать любые свободные источники с *обязательным* указанием ссылки на них.\n",
        "*  Плагиат не допускается. При обнаружении случаев списывания, 0 за работу выставляется всем участникам нарушения, даже если можно установить, кто у кого списал.\n",
        "*  Старайтесь сделать код как можно более оптимальным. В частности, будет штрафоваться использование циклов в тех случаях, когда операцию можно совершить при помощи инструментов библиотек, о которых рассказывалось в курсе."
      ],
      "metadata": {
        "id": "EPcxtekTA1Sm"
      }
    },
    {
      "cell_type": "markdown",
      "metadata": {
        "id": "itRtFtrOf0_b"
      },
      "source": [
        "В этом домашнем задании вам предстоит построить классификатор текстов.\n",
        "\n",
        "Будем предсказывать эмоциональную окраску твиттов о коронавирусе.\n",
        "\n"
      ]
    },
    {
      "cell_type": "code",
      "execution_count": 320,
      "metadata": {
        "id": "tNGRVO7_g9mz"
      },
      "outputs": [],
      "source": [
        "import numpy as np\n",
        "import pandas as pd\n",
        "from typing import  List\n",
        "import matplotlib.pyplot as plt\n",
        "import seaborn as sns\n",
        "from string import punctuation\n",
        "\n",
        "import warnings\n",
        "warnings.filterwarnings('ignore')"
      ]
    },
    {
      "cell_type": "code",
      "source": [
        "!wget https://raw.githubusercontent.com/hse-ds/iad-intro-ds/master/2024/homeworks/hw06_texts/tweets_coronavirus.csv"
      ],
      "metadata": {
        "colab": {
          "base_uri": "https://localhost:8080/"
        },
        "id": "KlBB416YAjaz",
        "outputId": "f5a1e176-8a25-4d58-d99a-dfb2d43ee4d6"
      },
      "execution_count": 321,
      "outputs": [
        {
          "output_type": "stream",
          "name": "stdout",
          "text": [
            "--2024-05-14 20:35:54--  https://raw.githubusercontent.com/hse-ds/iad-intro-ds/master/2024/homeworks/hw06_texts/tweets_coronavirus.csv\n",
            "Resolving raw.githubusercontent.com (raw.githubusercontent.com)... 185.199.108.133, 185.199.109.133, 185.199.110.133, ...\n",
            "Connecting to raw.githubusercontent.com (raw.githubusercontent.com)|185.199.108.133|:443... connected.\n",
            "HTTP request sent, awaiting response... 200 OK\n",
            "Length: 8829280 (8.4M) [text/plain]\n",
            "Saving to: ‘tweets_coronavirus.csv’\n",
            "\n",
            "tweets_coronavirus. 100%[===================>]   8.42M  --.-KB/s    in 0.02s   \n",
            "\n",
            "2024-05-14 20:35:54 (366 MB/s) - ‘tweets_coronavirus.csv’ saved [8829280/8829280]\n",
            "\n"
          ]
        }
      ]
    },
    {
      "cell_type": "code",
      "execution_count": 322,
      "metadata": {
        "id": "zOy8iHJQg_Ss",
        "colab": {
          "base_uri": "https://localhost:8080/",
          "height": 173
        },
        "outputId": "059fad90-e5ee-42ed-ca26-56c271dc8b5d"
      },
      "outputs": [
        {
          "output_type": "execute_result",
          "data": {
            "text/plain": [
              "       UserName  ScreenName                    Location     TweetAt  \\\n",
              "312        4181       49133                         NaN  16-03-2020   \n",
              "10677     16754       61706                         NaN  21-03-2020   \n",
              "29833     40427       85379            Washington State  09-04-2020   \n",
              "158        3989       48941  London | New York | Munich  16-03-2020   \n",
              "\n",
              "                                           OriginalTweet           Sentiment  \n",
              "312    #MondayMotivation: If this #QuarantineLife ove...            Negative  \n",
              "10677  I hate when I go to the store to see food and ...  Extremely Negative  \n",
              "29833  Saw someone who just did not get the point of ...            Positive  \n",
              "158    \"I already stocked up on food. Ammo was just t...            Negative  "
            ],
            "text/html": [
              "\n",
              "  <div id=\"df-9109fa8c-9eaa-4a5b-8d4e-4b392edf69be\" class=\"colab-df-container\">\n",
              "    <div>\n",
              "<style scoped>\n",
              "    .dataframe tbody tr th:only-of-type {\n",
              "        vertical-align: middle;\n",
              "    }\n",
              "\n",
              "    .dataframe tbody tr th {\n",
              "        vertical-align: top;\n",
              "    }\n",
              "\n",
              "    .dataframe thead th {\n",
              "        text-align: right;\n",
              "    }\n",
              "</style>\n",
              "<table border=\"1\" class=\"dataframe\">\n",
              "  <thead>\n",
              "    <tr style=\"text-align: right;\">\n",
              "      <th></th>\n",
              "      <th>UserName</th>\n",
              "      <th>ScreenName</th>\n",
              "      <th>Location</th>\n",
              "      <th>TweetAt</th>\n",
              "      <th>OriginalTweet</th>\n",
              "      <th>Sentiment</th>\n",
              "    </tr>\n",
              "  </thead>\n",
              "  <tbody>\n",
              "    <tr>\n",
              "      <th>312</th>\n",
              "      <td>4181</td>\n",
              "      <td>49133</td>\n",
              "      <td>NaN</td>\n",
              "      <td>16-03-2020</td>\n",
              "      <td>#MondayMotivation: If this #QuarantineLife ove...</td>\n",
              "      <td>Negative</td>\n",
              "    </tr>\n",
              "    <tr>\n",
              "      <th>10677</th>\n",
              "      <td>16754</td>\n",
              "      <td>61706</td>\n",
              "      <td>NaN</td>\n",
              "      <td>21-03-2020</td>\n",
              "      <td>I hate when I go to the store to see food and ...</td>\n",
              "      <td>Extremely Negative</td>\n",
              "    </tr>\n",
              "    <tr>\n",
              "      <th>29833</th>\n",
              "      <td>40427</td>\n",
              "      <td>85379</td>\n",
              "      <td>Washington State</td>\n",
              "      <td>09-04-2020</td>\n",
              "      <td>Saw someone who just did not get the point of ...</td>\n",
              "      <td>Positive</td>\n",
              "    </tr>\n",
              "    <tr>\n",
              "      <th>158</th>\n",
              "      <td>3989</td>\n",
              "      <td>48941</td>\n",
              "      <td>London | New York | Munich</td>\n",
              "      <td>16-03-2020</td>\n",
              "      <td>\"I already stocked up on food. Ammo was just t...</td>\n",
              "      <td>Negative</td>\n",
              "    </tr>\n",
              "  </tbody>\n",
              "</table>\n",
              "</div>\n",
              "    <div class=\"colab-df-buttons\">\n",
              "\n",
              "  <div class=\"colab-df-container\">\n",
              "    <button class=\"colab-df-convert\" onclick=\"convertToInteractive('df-9109fa8c-9eaa-4a5b-8d4e-4b392edf69be')\"\n",
              "            title=\"Convert this dataframe to an interactive table.\"\n",
              "            style=\"display:none;\">\n",
              "\n",
              "  <svg xmlns=\"http://www.w3.org/2000/svg\" height=\"24px\" viewBox=\"0 -960 960 960\">\n",
              "    <path d=\"M120-120v-720h720v720H120Zm60-500h600v-160H180v160Zm220 220h160v-160H400v160Zm0 220h160v-160H400v160ZM180-400h160v-160H180v160Zm440 0h160v-160H620v160ZM180-180h160v-160H180v160Zm440 0h160v-160H620v160Z\"/>\n",
              "  </svg>\n",
              "    </button>\n",
              "\n",
              "  <style>\n",
              "    .colab-df-container {\n",
              "      display:flex;\n",
              "      gap: 12px;\n",
              "    }\n",
              "\n",
              "    .colab-df-convert {\n",
              "      background-color: #E8F0FE;\n",
              "      border: none;\n",
              "      border-radius: 50%;\n",
              "      cursor: pointer;\n",
              "      display: none;\n",
              "      fill: #1967D2;\n",
              "      height: 32px;\n",
              "      padding: 0 0 0 0;\n",
              "      width: 32px;\n",
              "    }\n",
              "\n",
              "    .colab-df-convert:hover {\n",
              "      background-color: #E2EBFA;\n",
              "      box-shadow: 0px 1px 2px rgba(60, 64, 67, 0.3), 0px 1px 3px 1px rgba(60, 64, 67, 0.15);\n",
              "      fill: #174EA6;\n",
              "    }\n",
              "\n",
              "    .colab-df-buttons div {\n",
              "      margin-bottom: 4px;\n",
              "    }\n",
              "\n",
              "    [theme=dark] .colab-df-convert {\n",
              "      background-color: #3B4455;\n",
              "      fill: #D2E3FC;\n",
              "    }\n",
              "\n",
              "    [theme=dark] .colab-df-convert:hover {\n",
              "      background-color: #434B5C;\n",
              "      box-shadow: 0px 1px 3px 1px rgba(0, 0, 0, 0.15);\n",
              "      filter: drop-shadow(0px 1px 2px rgba(0, 0, 0, 0.3));\n",
              "      fill: #FFFFFF;\n",
              "    }\n",
              "  </style>\n",
              "\n",
              "    <script>\n",
              "      const buttonEl =\n",
              "        document.querySelector('#df-9109fa8c-9eaa-4a5b-8d4e-4b392edf69be button.colab-df-convert');\n",
              "      buttonEl.style.display =\n",
              "        google.colab.kernel.accessAllowed ? 'block' : 'none';\n",
              "\n",
              "      async function convertToInteractive(key) {\n",
              "        const element = document.querySelector('#df-9109fa8c-9eaa-4a5b-8d4e-4b392edf69be');\n",
              "        const dataTable =\n",
              "          await google.colab.kernel.invokeFunction('convertToInteractive',\n",
              "                                                    [key], {});\n",
              "        if (!dataTable) return;\n",
              "\n",
              "        const docLinkHtml = 'Like what you see? Visit the ' +\n",
              "          '<a target=\"_blank\" href=https://colab.research.google.com/notebooks/data_table.ipynb>data table notebook</a>'\n",
              "          + ' to learn more about interactive tables.';\n",
              "        element.innerHTML = '';\n",
              "        dataTable['output_type'] = 'display_data';\n",
              "        await google.colab.output.renderOutput(dataTable, element);\n",
              "        const docLink = document.createElement('div');\n",
              "        docLink.innerHTML = docLinkHtml;\n",
              "        element.appendChild(docLink);\n",
              "      }\n",
              "    </script>\n",
              "  </div>\n",
              "\n",
              "\n",
              "<div id=\"df-7016e29e-45f2-4af5-b9e9-7aff3b230d47\">\n",
              "  <button class=\"colab-df-quickchart\" onclick=\"quickchart('df-7016e29e-45f2-4af5-b9e9-7aff3b230d47')\"\n",
              "            title=\"Suggest charts\"\n",
              "            style=\"display:none;\">\n",
              "\n",
              "<svg xmlns=\"http://www.w3.org/2000/svg\" height=\"24px\"viewBox=\"0 0 24 24\"\n",
              "     width=\"24px\">\n",
              "    <g>\n",
              "        <path d=\"M19 3H5c-1.1 0-2 .9-2 2v14c0 1.1.9 2 2 2h14c1.1 0 2-.9 2-2V5c0-1.1-.9-2-2-2zM9 17H7v-7h2v7zm4 0h-2V7h2v10zm4 0h-2v-4h2v4z\"/>\n",
              "    </g>\n",
              "</svg>\n",
              "  </button>\n",
              "\n",
              "<style>\n",
              "  .colab-df-quickchart {\n",
              "      --bg-color: #E8F0FE;\n",
              "      --fill-color: #1967D2;\n",
              "      --hover-bg-color: #E2EBFA;\n",
              "      --hover-fill-color: #174EA6;\n",
              "      --disabled-fill-color: #AAA;\n",
              "      --disabled-bg-color: #DDD;\n",
              "  }\n",
              "\n",
              "  [theme=dark] .colab-df-quickchart {\n",
              "      --bg-color: #3B4455;\n",
              "      --fill-color: #D2E3FC;\n",
              "      --hover-bg-color: #434B5C;\n",
              "      --hover-fill-color: #FFFFFF;\n",
              "      --disabled-bg-color: #3B4455;\n",
              "      --disabled-fill-color: #666;\n",
              "  }\n",
              "\n",
              "  .colab-df-quickchart {\n",
              "    background-color: var(--bg-color);\n",
              "    border: none;\n",
              "    border-radius: 50%;\n",
              "    cursor: pointer;\n",
              "    display: none;\n",
              "    fill: var(--fill-color);\n",
              "    height: 32px;\n",
              "    padding: 0;\n",
              "    width: 32px;\n",
              "  }\n",
              "\n",
              "  .colab-df-quickchart:hover {\n",
              "    background-color: var(--hover-bg-color);\n",
              "    box-shadow: 0 1px 2px rgba(60, 64, 67, 0.3), 0 1px 3px 1px rgba(60, 64, 67, 0.15);\n",
              "    fill: var(--button-hover-fill-color);\n",
              "  }\n",
              "\n",
              "  .colab-df-quickchart-complete:disabled,\n",
              "  .colab-df-quickchart-complete:disabled:hover {\n",
              "    background-color: var(--disabled-bg-color);\n",
              "    fill: var(--disabled-fill-color);\n",
              "    box-shadow: none;\n",
              "  }\n",
              "\n",
              "  .colab-df-spinner {\n",
              "    border: 2px solid var(--fill-color);\n",
              "    border-color: transparent;\n",
              "    border-bottom-color: var(--fill-color);\n",
              "    animation:\n",
              "      spin 1s steps(1) infinite;\n",
              "  }\n",
              "\n",
              "  @keyframes spin {\n",
              "    0% {\n",
              "      border-color: transparent;\n",
              "      border-bottom-color: var(--fill-color);\n",
              "      border-left-color: var(--fill-color);\n",
              "    }\n",
              "    20% {\n",
              "      border-color: transparent;\n",
              "      border-left-color: var(--fill-color);\n",
              "      border-top-color: var(--fill-color);\n",
              "    }\n",
              "    30% {\n",
              "      border-color: transparent;\n",
              "      border-left-color: var(--fill-color);\n",
              "      border-top-color: var(--fill-color);\n",
              "      border-right-color: var(--fill-color);\n",
              "    }\n",
              "    40% {\n",
              "      border-color: transparent;\n",
              "      border-right-color: var(--fill-color);\n",
              "      border-top-color: var(--fill-color);\n",
              "    }\n",
              "    60% {\n",
              "      border-color: transparent;\n",
              "      border-right-color: var(--fill-color);\n",
              "    }\n",
              "    80% {\n",
              "      border-color: transparent;\n",
              "      border-right-color: var(--fill-color);\n",
              "      border-bottom-color: var(--fill-color);\n",
              "    }\n",
              "    90% {\n",
              "      border-color: transparent;\n",
              "      border-bottom-color: var(--fill-color);\n",
              "    }\n",
              "  }\n",
              "</style>\n",
              "\n",
              "  <script>\n",
              "    async function quickchart(key) {\n",
              "      const quickchartButtonEl =\n",
              "        document.querySelector('#' + key + ' button');\n",
              "      quickchartButtonEl.disabled = true;  // To prevent multiple clicks.\n",
              "      quickchartButtonEl.classList.add('colab-df-spinner');\n",
              "      try {\n",
              "        const charts = await google.colab.kernel.invokeFunction(\n",
              "            'suggestCharts', [key], {});\n",
              "      } catch (error) {\n",
              "        console.error('Error during call to suggestCharts:', error);\n",
              "      }\n",
              "      quickchartButtonEl.classList.remove('colab-df-spinner');\n",
              "      quickchartButtonEl.classList.add('colab-df-quickchart-complete');\n",
              "    }\n",
              "    (() => {\n",
              "      let quickchartButtonEl =\n",
              "        document.querySelector('#df-7016e29e-45f2-4af5-b9e9-7aff3b230d47 button');\n",
              "      quickchartButtonEl.style.display =\n",
              "        google.colab.kernel.accessAllowed ? 'block' : 'none';\n",
              "    })();\n",
              "  </script>\n",
              "</div>\n",
              "    </div>\n",
              "  </div>\n"
            ],
            "application/vnd.google.colaboratory.intrinsic+json": {
              "type": "dataframe",
              "repr_error": "0"
            }
          },
          "metadata": {},
          "execution_count": 322
        }
      ],
      "source": [
        "df = pd.read_csv('/content/tweets_coronavirus.csv', encoding='latin-1')\n",
        "df.sample(4)"
      ]
    },
    {
      "cell_type": "markdown",
      "metadata": {
        "id": "m2OiDog9ZBlS"
      },
      "source": [
        "Для каждого твитта указано:\n",
        "\n",
        "\n",
        "*   UserName - имя пользователя, заменено на целое число для анонимности\n",
        "*   ScreenName - отображающееся имя пользователя, заменено на целое число для анонимности\n",
        "*   Location - местоположение\n",
        "*   TweetAt - дата создания твитта\n",
        "*   OriginalTweet - текст твитта\n",
        "*   Sentiment - эмоциональная окраска твитта (целевая переменная)\n",
        "\n"
      ]
    },
    {
      "cell_type": "markdown",
      "metadata": {
        "id": "pZTMseDkhTC7"
      },
      "source": [
        "## Задание 1 Подготовка (0.5 балла)"
      ]
    },
    {
      "cell_type": "markdown",
      "metadata": {
        "id": "Xx2-odn9hdAW"
      },
      "source": [
        "Целевая переменная находится в колонке `Sentiment`.  Преобразуйте ее таким образом, чтобы она стала бинарной: 1 - если у твитта положительная эмоциональная окраска и 0 - если отрицательная."
      ]
    },
    {
      "cell_type": "code",
      "source": [
        "set(df['Sentiment'])"
      ],
      "metadata": {
        "colab": {
          "base_uri": "https://localhost:8080/"
        },
        "id": "c5E6s_nzd4SD",
        "outputId": "daadf09b-eab5-44d6-f765-00b7805e3eaa"
      },
      "execution_count": 323,
      "outputs": [
        {
          "output_type": "execute_result",
          "data": {
            "text/plain": [
              "{'Extremely Negative', 'Extremely Positive', 'Negative', 'Positive'}"
            ]
          },
          "metadata": {},
          "execution_count": 323
        }
      ]
    },
    {
      "cell_type": "code",
      "execution_count": 324,
      "metadata": {
        "id": "ZaQKQ1zEjP15"
      },
      "outputs": [],
      "source": [
        "# Заметим, что в столбце Sentiment присутствуют 4 значения. Соответственно,\n",
        "# отнесем положительные к классу 1, а отрицательные к 0.\n",
        "\n",
        "def convertValue(value):\n",
        "    if value in ['Positive', 'Extremely Positive']:\n",
        "        return 1\n",
        "    return 0\n",
        "\n",
        "df['Sentiment'] = df['Sentiment'].apply(convertValue, convert_dtype=int)"
      ]
    },
    {
      "cell_type": "markdown",
      "metadata": {
        "id": "pGq1FxJ-kBo5"
      },
      "source": [
        "Сбалансированы ли классы?"
      ]
    },
    {
      "cell_type": "code",
      "execution_count": 325,
      "metadata": {
        "id": "a7gdNtxckK5V",
        "colab": {
          "base_uri": "https://localhost:8080/"
        },
        "outputId": "0a5a8f69-a0f2-4733-d624-e4d3f783ba77"
      },
      "outputs": [
        {
          "output_type": "execute_result",
          "data": {
            "text/plain": [
              "Sentiment\n",
              "1    18046\n",
              "0    15398\n",
              "Name: count, dtype: int64"
            ]
          },
          "metadata": {},
          "execution_count": 325
        }
      ],
      "source": [
        "df['Sentiment'].value_counts()"
      ]
    },
    {
      "cell_type": "markdown",
      "metadata": {
        "id": "Ng8BCelMkWb0"
      },
      "source": [
        "**Ответ:**\n",
        "Как мы видим к классу 1 относится ~ 54%, а к классу 0 ~ 46%. Соответственно, можно сказать что классы довольно сбалансированы.\n",
        "\n",
        "---"
      ]
    },
    {
      "cell_type": "markdown",
      "metadata": {
        "id": "qmSIBSsLk5Zz"
      },
      "source": [
        "Выведете на экран информацию о пропусках в данных. Если пропуски присутствуют заполните их строкой 'Unknown'."
      ]
    },
    {
      "cell_type": "code",
      "execution_count": 326,
      "metadata": {
        "id": "UhUVRkR5kxa7",
        "colab": {
          "base_uri": "https://localhost:8080/"
        },
        "outputId": "b00f3cef-ba67-4677-f1cb-16e23875f94b"
      },
      "outputs": [
        {
          "output_type": "execute_result",
          "data": {
            "text/plain": [
              "UserName            0\n",
              "ScreenName          0\n",
              "Location         7049\n",
              "TweetAt             0\n",
              "OriginalTweet       0\n",
              "Sentiment           0\n",
              "dtype: int64"
            ]
          },
          "metadata": {},
          "execution_count": 326
        }
      ],
      "source": [
        "df.isna().sum()"
      ]
    },
    {
      "cell_type": "code",
      "source": [
        "# Мы видим, что в данных присутствуют пропуски, но только в столбце Location.\n",
        "# Заполним их, как нас и просят\n",
        "\n",
        "df = df.fillna('Unknown')"
      ],
      "metadata": {
        "id": "6fEKs3jKfgCD"
      },
      "execution_count": 327,
      "outputs": []
    },
    {
      "cell_type": "code",
      "source": [
        "print(f'Количество пропусков в таблице: {df.isna().sum().sum()}\\nУра! Пропусков не осталось')"
      ],
      "metadata": {
        "colab": {
          "base_uri": "https://localhost:8080/"
        },
        "id": "vQwEZiyjgew5",
        "outputId": "e3bdc135-4707-4842-e7cb-39c9c987b3f9"
      },
      "execution_count": 328,
      "outputs": [
        {
          "output_type": "stream",
          "name": "stdout",
          "text": [
            "Количество пропусков в таблице: 0\n",
            "Ура! Пропусков не осталось\n"
          ]
        }
      ]
    },
    {
      "cell_type": "markdown",
      "source": [
        "---"
      ],
      "metadata": {
        "id": "r7cExVfKuBNX"
      }
    },
    {
      "cell_type": "markdown",
      "metadata": {
        "id": "1tzt27tfjUpq"
      },
      "source": [
        "Разделите данные на обучающие и тестовые в соотношении 7 : 3 и `random_state=0`"
      ]
    },
    {
      "cell_type": "code",
      "execution_count": 329,
      "metadata": {
        "id": "xSLOA9tIj9Z6"
      },
      "outputs": [],
      "source": [
        "# Просто сделаем все по заданию: разделим выборки и сделаем stratify по столбцу\n",
        "# таргетов (чтобы классы остались сбалансированными).\n",
        "\n",
        "from sklearn.model_selection import train_test_split\n",
        "\n",
        "train, test = train_test_split(df, train_size=0.7, random_state=0)"
      ]
    },
    {
      "cell_type": "markdown",
      "metadata": {
        "id": "J9RrPUsJlL60"
      },
      "source": [
        "## Задание 2 Токенизация (3 балла)"
      ]
    },
    {
      "cell_type": "markdown",
      "metadata": {
        "id": "2Dz_b7Xopc_R"
      },
      "source": [
        "Постройте словарь на основе обучающей выборки и посчитайте количество встреч каждого токена с использованием самой простой токенизации - деления текстов по пробельным символам и приведением токенов в нижний регистр"
      ]
    },
    {
      "cell_type": "code",
      "execution_count": 330,
      "metadata": {
        "id": "SFr67WOJphny",
        "colab": {
          "base_uri": "https://localhost:8080/"
        },
        "outputId": "12b0e495-2c8a-4680-92cc-3c889c06c36f"
      },
      "outputs": [
        {
          "output_type": "execute_result",
          "data": {
            "text/plain": [
              "[('the', 26815),\n",
              " ('to', 23373),\n",
              " ('and', 14684),\n",
              " ('of', 13012),\n",
              " ('a', 11737),\n",
              " ('in', 11198),\n",
              " ('for', 8566),\n",
              " ('#coronavirus', 8223),\n",
              " ('is', 7383),\n",
              " ('are', 7050)]"
            ]
          },
          "metadata": {},
          "execution_count": 330
        }
      ],
      "source": [
        "# Используем надстройку над словарем - Counter\n",
        "from collections import Counter\n",
        "\n",
        "# Функция добавляющая наше слово в словарь (в нижнем регистре)\n",
        "def AddWord(word):\n",
        "    global wordsDictionary\n",
        "    word = word.lower()\n",
        "    if word in wordsDictionary:\n",
        "        wordsDictionary[word] += 1\n",
        "    else:\n",
        "        wordsDictionary[word] = 1\n",
        "\n",
        "\n",
        "wordsDictionary = Counter()\n",
        "# Применим функцию к каждому слову из каждого текста в нашей таблице\n",
        "train['OriginalTweet'].apply(lambda text: [AddWord(word) for word in text.split()])\n",
        "# Проверим, что все считается\n",
        "wordsDictionary.most_common(10)"
      ]
    },
    {
      "cell_type": "markdown",
      "metadata": {
        "id": "Pe0h2Jqkpnao"
      },
      "source": [
        "---\n",
        "\n",
        "Какой размер словаря получился?"
      ]
    },
    {
      "cell_type": "code",
      "execution_count": 331,
      "metadata": {
        "id": "umyENA7EpokD",
        "colab": {
          "base_uri": "https://localhost:8080/"
        },
        "outputId": "17c111cc-d8e9-46c6-ea27-8621489a47df"
      },
      "outputs": [
        {
          "output_type": "stream",
          "name": "stdout",
          "text": [
            "Размер словаря: 79755\n"
          ]
        }
      ],
      "source": [
        "print(f'Размер словаря: {len(wordsDictionary)}')"
      ]
    },
    {
      "cell_type": "markdown",
      "metadata": {
        "id": "0d2G1Z-Qpqkd"
      },
      "source": [
        "Выведите 10 самых популярных токенов с количеством встреч каждого из них. Объясните, почему именно эти токены в топе"
      ]
    },
    {
      "cell_type": "code",
      "execution_count": 332,
      "metadata": {
        "id": "Impi32a_pssg",
        "colab": {
          "base_uri": "https://localhost:8080/"
        },
        "outputId": "9638a923-2971-4628-e645-66470c0b68ba"
      },
      "outputs": [
        {
          "output_type": "execute_result",
          "data": {
            "text/plain": [
              "[('the', 26815),\n",
              " ('to', 23373),\n",
              " ('and', 14684),\n",
              " ('of', 13012),\n",
              " ('a', 11737),\n",
              " ('in', 11198),\n",
              " ('for', 8566),\n",
              " ('#coronavirus', 8223),\n",
              " ('is', 7383),\n",
              " ('are', 7050)]"
            ]
          },
          "metadata": {},
          "execution_count": 332
        }
      ],
      "source": [
        "# выводим 10 самых популярных слов\n",
        "wordsDictionary.most_common(10)"
      ]
    },
    {
      "cell_type": "markdown",
      "metadata": {
        "id": "ZtuJCD0ApuFd"
      },
      "source": [
        "**Ответ:**\n",
        "\n",
        "Самыми популярными словами стали артикли ('a', 'the'), так как они используются почти всегда перед существительными. Также в топе предлоги, которые являются словами-связками и используются между словами ('to', 'of', 'in', 'for'). Союз 'and' так же очень популярен, так как и в русском языке мы часто используем союз И для связи частей предложений, однородных членов и тд.\n",
        "\n",
        "Отдельно выделяется хэштег '#coronavirus', так как этот датасет состоит из твитов о коронавирусе.\n",
        "\n",
        "И, конечно же, в топе присутствует глагол to be в формах 'is', 'are'. Потому что эти глаголы часто встречаются в английских грамматических конструкциях.\n",
        "\n",
        "---"
      ]
    },
    {
      "cell_type": "markdown",
      "metadata": {
        "id": "T7DTQDkWsVYp"
      },
      "source": [
        "Удалите стоп-слова из словаря и выведите новый топ-10 токенов (и количество встреч) по популярности.  Что можно сказать  о нем?"
      ]
    },
    {
      "cell_type": "code",
      "execution_count": 333,
      "metadata": {
        "id": "8csSAdgTsnFx",
        "colab": {
          "base_uri": "https://localhost:8080/"
        },
        "outputId": "3ebf5499-f128-4d0f-e240-e9489be3183a"
      },
      "outputs": [
        {
          "output_type": "stream",
          "name": "stderr",
          "text": [
            "[nltk_data] Downloading package stopwords to /root/nltk_data...\n",
            "[nltk_data]   Package stopwords is already up-to-date!\n"
          ]
        },
        {
          "output_type": "execute_result",
          "data": {
            "text/plain": [
              "True"
            ]
          },
          "metadata": {},
          "execution_count": 333
        }
      ],
      "source": [
        "import nltk\n",
        "from nltk.corpus import stopwords\n",
        "\n",
        "nltk.download('stopwords')"
      ]
    },
    {
      "cell_type": "code",
      "source": [
        "# функция проверяющая, есть ли слово в stopwords и удаляющая его, если что\n",
        "def CheckWord(word):\n",
        "    global wordsDictionary\n",
        "    if word in stopwords.words(\"english\"):\n",
        "        del wordsDictionary[word]\n",
        "\n",
        "words = list(wordsDictionary)\n",
        "# тут такая конструкция, чтобы не писать циклом, но применить ко всем элементам)\n",
        "# просто map не выполнит функцию (из-за оптимизации), поэтому мы передаем\n",
        "# результат в ф-цию list и тогда мы получаем желаемый результат\n",
        "list(map(CheckWord, words))\n",
        "\n",
        "wordsDictionary.most_common(10)"
      ],
      "metadata": {
        "colab": {
          "base_uri": "https://localhost:8080/"
        },
        "id": "KQteMbJ7GjjB",
        "outputId": "52f0b5dc-346c-4698-dc25-6d1d9456cf38"
      },
      "execution_count": 334,
      "outputs": [
        {
          "output_type": "execute_result",
          "data": {
            "text/plain": [
              "[('#coronavirus', 8223),\n",
              " ('prices', 3891),\n",
              " ('food', 3820),\n",
              " ('grocery', 3469),\n",
              " ('supermarket', 3288),\n",
              " ('people', 3175),\n",
              " ('covid-19', 3173),\n",
              " ('store', 3155),\n",
              " ('#covid19', 2471),\n",
              " ('&amp;', 2314)]"
            ]
          },
          "metadata": {},
          "execution_count": 334
        }
      ]
    },
    {
      "cell_type": "markdown",
      "metadata": {
        "id": "LZH0x2Lzs-Dh"
      },
      "source": [
        "**Ответ:**  теперь, все служебные части речи ушли и остались только слова со смыслом.\n",
        "\n",
        "Опять же очень популярным остался '#coronavirus', к нему добавились 'covid-19', '#covid19' это связано с тем, что твиты были о коронавирусе.\n",
        "\n",
        "'prices', 'food' и 'grocery', 'supermarket', 'store' было популярным, вероятно из-за подъема цен на продукты в магазинах, а так же из-за изменения режимов работы и правил посещения магазинов.\n",
        "\n",
        "'people' может быть потому что всем было интересно сколько людей заболело и они часто проверяли и писали об этом.\n",
        "\n",
        "---"
      ]
    },
    {
      "cell_type": "markdown",
      "metadata": {
        "id": "TKSGRyI-uor0"
      },
      "source": [
        "Также выведите 20 самых непопулярных слов (если самых непопулярных слов больше выведите любые 20 из них) Почему эти токены непопулярны, требуется ли как-то дополнительно работать с ними?"
      ]
    },
    {
      "cell_type": "code",
      "execution_count": 335,
      "metadata": {
        "id": "moArbwfvun9t",
        "colab": {
          "base_uri": "https://localhost:8080/"
        },
        "outputId": "1bb5c9e8-de26-491c-b66c-fc63b450551a"
      },
      "outputs": [
        {
          "output_type": "execute_result",
          "data": {
            "text/plain": [
              "[('https://t.co/7j2y3rsld9', 1),\n",
              " ('@680news', 1),\n",
              " ('@torontopearson', 1),\n",
              " ('nothing...', 1),\n",
              " ('flew', 1),\n",
              " ('wage!', 1),\n",
              " ('renewing', 1),\n",
              " ('playersã\\x82â\\x92', 1),\n",
              " ('subsidise', 1),\n",
              " ('non-playing', 1),\n",
              " ('premiership', 1),\n",
              " ('https://t.co/iaek4fwsgz', 1),\n",
              " ('@srinivasiyc', 1),\n",
              " ('https://t.co/zjcl195vqs', 1),\n",
              " ('#southkerry', 1),\n",
              " ('#skelligcoast2kms', 1),\n",
              " ('@skelligsix18', 1),\n",
              " ('closer!)', 1),\n",
              " ('coast!', 1),\n",
              " ('skellig', 1)]"
            ]
          },
          "metadata": {},
          "execution_count": 335
        }
      ],
      "source": [
        "# Выведем 20 самых  непопулярных\n",
        "wordsDictionary.most_common()[-1:-21:-1]"
      ]
    },
    {
      "cell_type": "markdown",
      "metadata": {
        "id": "uRp3J1gQunlR"
      },
      "source": [
        "**Ответ:** Самые непопулярные слова - это слова встретившиеся ровно 1 раз.\n",
        "\n",
        "Такими оказались ссылки. Их вероятно лучше удалить из наших данных, так как они не дают никакой полезной информации.\n",
        "\n",
        "Также туда попали непопулярные и сложные слова. С ними ничего не нужно делать, они просто редкие.\n",
        "\n",
        "Выделяются слова, которые просто неправильно разделились пробелами. То есть слова с точками, скобками и другими знаками препинания: 'playersã\\x82â\\x92' и другие. Стоит делить слова правильнее, чтобы таких ситуаций не возникало, потому что с важными словами рядом могут стоять знаки препинания и тогда мы не узнаем об этих важных словах.\n",
        "\n",
        "---\n"
      ]
    },
    {
      "cell_type": "markdown",
      "metadata": {
        "id": "wx9LQOSPzvjV"
      },
      "source": [
        "Теперь воспользуемся токенайзером получше - TweetTokenizer из библиотеки nltk. Примените его и посмотрите на топ-10 популярных слов. Чем он отличается от топа, который получался раньше? Почему?"
      ]
    },
    {
      "cell_type": "code",
      "execution_count": 336,
      "metadata": {
        "id": "2G1UkyVxzvFY",
        "colab": {
          "base_uri": "https://localhost:8080/"
        },
        "outputId": "6653ab9a-2f2b-4d33-a8cb-f9249e82b066"
      },
      "outputs": [
        {
          "output_type": "execute_result",
          "data": {
            "text/plain": [
              "[('the', 24337),\n",
              " ('.', 24118),\n",
              " ('to', 22933),\n",
              " (',', 17571),\n",
              " ('and', 14354),\n",
              " ('of', 12904),\n",
              " ('a', 11045),\n",
              " ('in', 10573),\n",
              " ('?', 9524),\n",
              " ('for', 8228)]"
            ]
          },
          "metadata": {},
          "execution_count": 336
        }
      ],
      "source": [
        "from nltk.tokenize import TweetTokenizer\n",
        "\n",
        "\n",
        "# Функция добавляющая наше слово в словарь (в нижнем регистре)\n",
        "def AddWordTweet(word):\n",
        "    global wordsDictionaryTweet\n",
        "    if word in wordsDictionaryTweet:\n",
        "        wordsDictionaryTweet[word] += 1\n",
        "    else:\n",
        "        wordsDictionaryTweet[word] = 1\n",
        "\n",
        "\n",
        "tokenizer = TweetTokenizer()\n",
        "\n",
        "wordsDictionaryTweet = Counter()\n",
        "# Применим функцию к каждому слову из каждого текста в нашей таблице\n",
        "train['OriginalTweet'].apply(lambda text: [AddWordTweet(word) for word in tokenizer.tokenize(text)])\n",
        "wordsDictionaryTweet.most_common(10)"
      ]
    },
    {
      "cell_type": "markdown",
      "metadata": {
        "id": "50eVUnJN1Zxl"
      },
      "source": [
        "**Ответ:** тут мы тоже получили, что самыми популярными являются служебные части речи. Однако, добавились знаки препинания, а значит TweetTokenizer получше разделил текст, и вероятно, теперь слова слитно написанные со знаками препинания считаются правильно.\n",
        "\n",
        "---"
      ]
    },
    {
      "cell_type": "markdown",
      "metadata": {
        "id": "1gqQgiMs11bs"
      },
      "source": [
        "Удалите из словаря стоп-слова и пунктуацию, посмотрите на новый топ-10 слов с количеством встреч, есть ли теперь в нем что-то не похожее на слова?"
      ]
    },
    {
      "cell_type": "code",
      "execution_count": 337,
      "metadata": {
        "id": "0yHWdFrp0Mup",
        "colab": {
          "base_uri": "https://localhost:8080/"
        },
        "outputId": "ec56edce-4122-4e51-be4c-227aff38dfd3"
      },
      "outputs": [
        {
          "output_type": "execute_result",
          "data": {
            "text/plain": [
              "[('Â', 7415),\n",
              " ('\\x82', 7311),\n",
              " ('19', 7167),\n",
              " ('#coronavirus', 7143),\n",
              " ('I', 5235),\n",
              " ('\\x92', 4372),\n",
              " ('prices', 4281),\n",
              " ('COVID', 4218),\n",
              " ('food', 3795),\n",
              " ('store', 3691)]"
            ]
          },
          "metadata": {},
          "execution_count": 337
        }
      ],
      "source": [
        "from string import punctuation\n",
        "\n",
        "# функция проверяющая, есть ли слово в stopwords и удаляющая его, если что\n",
        "# если использовать только punctation без многоточия, то оно будет часто\n",
        "# использоваться и будет 10-тым по популярности.\n",
        "# Но нас просят убрать всю пунктуацию, поэтому отдельно уберем и его тоже\n",
        "def CheckWordTweet(word):\n",
        "    global wordsDictionaryTweet\n",
        "    if word in stopwords.words(\"english\") or word in punctuation:\n",
        "        del wordsDictionaryTweet[word]\n",
        "\n",
        "wordsTweet = list(wordsDictionaryTweet)\n",
        "list(map(CheckWordTweet, wordsTweet))\n",
        "\n",
        "wordsDictionaryTweet.most_common(10)"
      ]
    },
    {
      "cell_type": "markdown",
      "metadata": {
        "id": "8ZJqXELP_Yxy"
      },
      "source": [
        "**Ответ:** сразу заметно, что теперь у нас на первые места в топе вышли непонятные символы '\\x82', '\\x92' - которые вероятно просто не смогли правильно раскодироваться. Также здесь символ 'Â', может быть пользователи реально часто его используют, а может быть опять же ошибка кодировки.\n",
        "\n",
        "У нас в топе добавилась буква 'I' (Я по-английски), как и в русском языке она часто используется.\n",
        "\n",
        "Остальные слова довольно похожи на те, что мы получили в первый раз.\n",
        "\n",
        " ---"
      ]
    },
    {
      "cell_type": "markdown",
      "metadata": {
        "id": "rzXjMsSB_kXB"
      },
      "source": [
        "Удалите из словаря токены из одного символа, с позицией в таблице Unicode 128 и более (`ord(x) >= 128`)\n",
        "\n",
        "Выведите топ-10 самых популярных и топ-20 непопулярных слов. Чем полученные топы отличаются от итоговых топов, полученных при использовании токенизации по пробелам? Что теперь лучше, а что хуже?"
      ]
    },
    {
      "cell_type": "code",
      "execution_count": 338,
      "metadata": {
        "id": "1695hlkS_1-J",
        "colab": {
          "base_uri": "https://localhost:8080/"
        },
        "outputId": "bb219bac-67b1-445d-c1e8-41efc2d05ebe"
      },
      "outputs": [
        {
          "output_type": "execute_result",
          "data": {
            "text/plain": [
              "[('19', 7167),\n",
              " ('#coronavirus', 7143),\n",
              " ('I', 5235),\n",
              " ('prices', 4281),\n",
              " ('COVID', 4218),\n",
              " ('food', 3795),\n",
              " ('store', 3691),\n",
              " ('supermarket', 3373),\n",
              " ('grocery', 3083),\n",
              " ('people', 3047)]"
            ]
          },
          "metadata": {},
          "execution_count": 338
        }
      ],
      "source": [
        "words = list(wordsDictionaryTweet)\n",
        "\n",
        "# Функция проверяет на соответствие условию и если что, удаляет слово\n",
        "def deleteUnicode(word):\n",
        "    if len(word) == 1 and ord(word) >= 128:\n",
        "        del wordsDictionaryTweet[word]\n",
        "\n",
        "list(map(deleteUnicode, words))\n",
        "# Топ 10 по популярности\n",
        "wordsDictionaryTweet.most_common(10)"
      ]
    },
    {
      "cell_type": "code",
      "source": [
        "# Выведем 20 самых  непопулярных\n",
        "wordsDictionaryTweet.most_common()[-1:-21:-1]"
      ],
      "metadata": {
        "colab": {
          "base_uri": "https://localhost:8080/"
        },
        "id": "rdDryPu45T7C",
        "outputId": "43a7d631-baff-41d2-8e2b-a6950926f1f2"
      },
      "execution_count": 339,
      "outputs": [
        {
          "output_type": "execute_result",
          "data": {
            "text/plain": [
              "[('https://t.co/7j2Y3rSld9', 1),\n",
              " ('@680NEWS', 1),\n",
              " ('@TorontoPearson', 1),\n",
              " ('flew', 1),\n",
              " ('renewing', 1),\n",
              " ('playersÃ', 1),\n",
              " ('subsidise', 1),\n",
              " ('non-playing', 1),\n",
              " ('premiership', 1),\n",
              " ('Vile', 1),\n",
              " ('https://t.co/IAEK4fWsgz', 1),\n",
              " ('@srinivasiyc', 1),\n",
              " ('https://t.co/zJcL195VQS', 1),\n",
              " ('#SouthKerry', 1),\n",
              " ('#SkelligCoast2kms', 1),\n",
              " ('@SkelligSix18', 1),\n",
              " ('Skellig', 1),\n",
              " ('milion', 1),\n",
              " ('now.When', 1),\n",
              " ('ruins', 1)]"
            ]
          },
          "metadata": {},
          "execution_count": 339
        }
      ]
    },
    {
      "cell_type": "markdown",
      "metadata": {
        "id": "KzjHAKIlDvc6"
      },
      "source": [
        "**Ответ:**\n",
        "\n",
        "<u>САМЫЕ ПОПУЛЯРНЫЕ</u>\n",
        "\n",
        "Теперь самые популярные слова выглядят гораздо лучше. '19', '#coronavirus', 'COVID' тут есть, так как твиты о коронавирусе.\n",
        "\n",
        "'I' - так как часто используется в языке (вообще она в стоп-словах, но так как здесь она заглавная, то она не удалилась).\n",
        "\n",
        "'prices', 'food', 'store', 'supermarket', 'grocery' - из-за того что цены на продукты и еду росли в тот период.\n",
        "\n",
        "'people' - всем было интересно, сколько людей сейчас болеет и вообще статистика по людям.\n",
        "\n",
        "<u>САМЫЕ НЕПОПУЛЯРНЫЕ</u>\n",
        "\n",
        "Здесь остались ссылки, редкие слова не совсем по теме.\n",
        "\n",
        "---"
      ]
    },
    {
      "cell_type": "markdown",
      "metadata": {
        "id": "EcDf9_6HB2zm"
      },
      "source": [
        "Выведите топ-10 популярных хештегов с количеством встреч. Что можно сказать о них?"
      ]
    },
    {
      "cell_type": "code",
      "execution_count": 340,
      "metadata": {
        "id": "zk4fygCUBw3l",
        "colab": {
          "base_uri": "https://localhost:8080/"
        },
        "outputId": "83c0b6a3-89d7-420a-f617-552b9507be7d"
      },
      "outputs": [
        {
          "output_type": "stream",
          "name": "stdout",
          "text": [
            "#coronavirus 7143\n",
            "#COVID19 1844\n",
            "#Covid_19 1463\n",
            "#Coronavirus 1281\n",
            "#COVID2019 927\n",
            "#toiletpaper 657\n",
            "#covid19 568\n",
            "#COVID 542\n",
            "#CoronaCrisis 426\n",
            "#CoronaVirus 351\n"
          ]
        }
      ],
      "source": [
        "counter = 0\n",
        "for word, count in wordsDictionaryTweet.most_common():\n",
        "    if counter == 10:\n",
        "        break\n",
        "    if word.startswith('#'):\n",
        "        print(word, count)\n",
        "        counter += 1"
      ]
    },
    {
      "cell_type": "markdown",
      "metadata": {
        "id": "-6NeNWBkDxM7"
      },
      "source": [
        "**Ответ:** мы видим, что люди очень часто использовали хэштеги связанные с коронавирусом и его названием (чтобы показать, что их твит относится к этой теме).\n",
        "\n",
        "Отдельно видно хэштег #toiletpaper - он просто связан с кризисом туалетной бумаги.\n",
        "\n",
        "---"
      ]
    },
    {
      "cell_type": "markdown",
      "metadata": {
        "id": "LLYBg7caD5GA"
      },
      "source": [
        "То же самое проделайте для ссылок на сайт https://t.co Сравнима ли популярность ссылок с популярностью хештегов? Будет ли информация о ссылке на конкретную страницу полезна?"
      ]
    },
    {
      "cell_type": "code",
      "execution_count": 341,
      "metadata": {
        "id": "MXbm1oeaCK9S",
        "colab": {
          "base_uri": "https://localhost:8080/"
        },
        "outputId": "c307bd1a-93aa-49e1-ae7a-f62e1988db68"
      },
      "outputs": [
        {
          "output_type": "stream",
          "name": "stdout",
          "text": [
            "https://t.co/oXA7SWtoNd 5\n",
            "https://t.co/gP3EusapL8 4\n",
            "https://t.co/DefTruI1PfÃÂ 3\n",
            "https://t.co/WrLHYzIzAA 3\n",
            "https://t.co/kuwIpF1KQW 3\n",
            "https://t.co/zjNRx6dKKN 3\n",
            "https://t.co/3GBBDpdjat 3\n",
            "https://t.co/e2ZNXajPre 3\n",
            "https://t.co/CATKegAyOY 3\n",
            "https://t.co/G63RP042HO 3\n"
          ]
        }
      ],
      "source": [
        "counter = 0\n",
        "for word, count in wordsDictionaryTweet.most_common():\n",
        "    if counter == 10:\n",
        "        break\n",
        "    if word.startswith('https://t.co'):\n",
        "        print(word, count)\n",
        "        counter += 1"
      ]
    },
    {
      "cell_type": "markdown",
      "metadata": {
        "id": "at6lRYZ8A07N"
      },
      "source": [
        "**Ответ:** ссылки уникальные и в адресе используется какую-то сгенерированную рандомно последовательность / хэш-код, поэтому никакой полезной информации для нас они не содержат.\n",
        "\n",
        "Популярность ссылок несравнима с популярностью хэштегов.\n",
        "\n",
        "---"
      ]
    },
    {
      "cell_type": "markdown",
      "metadata": {
        "id": "IOGdUU1kBU1D"
      },
      "source": [
        "Используем опыт предыдущих экспериментов и напишем собственный токенайзер, улучшив TweetTokenizer. Функция tokenize должна:\n",
        "\n",
        "\n",
        "\n",
        "*   Привести текст в нижний регистр\n",
        "*   Применить TweetTokenizer для изначального выделения токенов\n",
        "*   Удалить стоп-слова, пунктуацию, токены из одного символа, с позицией в таблице Unicode 128 и более и ссылки на t.co\n",
        "\n"
      ]
    },
    {
      "cell_type": "code",
      "source": [
        "import nltk\n",
        "from nltk.corpus import stopwords\n",
        "from string import punctuation\n",
        "\n",
        "nltk.download('stopwords')"
      ],
      "metadata": {
        "colab": {
          "base_uri": "https://localhost:8080/"
        },
        "id": "d0usN1S-AEAZ",
        "outputId": "6455dead-3b2e-4ff4-8fab-7a8b7460f3d5"
      },
      "execution_count": 342,
      "outputs": [
        {
          "output_type": "stream",
          "name": "stderr",
          "text": [
            "[nltk_data] Downloading package stopwords to /root/nltk_data...\n",
            "[nltk_data]   Package stopwords is already up-to-date!\n"
          ]
        },
        {
          "output_type": "execute_result",
          "data": {
            "text/plain": [
              "True"
            ]
          },
          "metadata": {},
          "execution_count": 342
        }
      ]
    },
    {
      "cell_type": "code",
      "execution_count": 343,
      "metadata": {
        "id": "ctEsB6xkFrrK"
      },
      "outputs": [],
      "source": [
        "# Просто напишем то, что требуется по условию\n",
        "def custom_tokenizer(text):\n",
        "    # Переводим в нижний регистр\n",
        "    text = text.lower()\n",
        "\n",
        "    # Токенизируем\n",
        "    tokenizer = TweetTokenizer()\n",
        "    tokens_raw = tokenizer.tokenize(text)\n",
        "\n",
        "    # Убираем лишние токены\n",
        "    noise = stopwords.words(\"english\") + list(punctuation)\n",
        "    tokens = [word for word in tokens_raw\n",
        "                       if not ((word in noise) or\n",
        "                               (len(word) == 1 and ord(word) >= 128) or\n",
        "                               (word.startswith(\"https://t.co\")))]\n",
        "    return tokens"
      ]
    },
    {
      "cell_type": "code",
      "execution_count": 344,
      "metadata": {
        "colab": {
          "base_uri": "https://localhost:8080/"
        },
        "id": "XwbgtYkJGYym",
        "outputId": "b4cff7e0-4914-4607-afaa-1614bad628be"
      },
      "outputs": [
        {
          "output_type": "execute_result",
          "data": {
            "text/plain": [
              "['sample', 'text', '@sample_text', '#sampletext']"
            ]
          },
          "metadata": {},
          "execution_count": 344
        }
      ],
      "source": [
        "custom_tokenizer('This is sample text!!!! @Sample_text I, \\x92\\x92 https://t.co/sample  #sampletext')"
      ]
    },
    {
      "cell_type": "markdown",
      "metadata": {
        "id": "wURVABmXHk97"
      },
      "source": [
        "## Задание 3 Векторизация текстов (2 балла)"
      ]
    },
    {
      "cell_type": "markdown",
      "metadata": {
        "id": "H44iXkoHIQfN"
      },
      "source": [
        "Обучите CountVectorizer с использованием custom_tokenizer в качестве токенайзера. Как размер полученного словаря соотносится с размером изначального словаря из начала задания 2?"
      ]
    },
    {
      "cell_type": "code",
      "source": [
        "from sklearn.feature_extraction.text import CountVectorizer\n",
        "\n",
        "cv = CountVectorizer(tokenizer=custom_tokenizer)\n",
        "cv.fit(train['OriginalTweet'])\n",
        "\n",
        "print(len(cv.vocabulary_))"
      ],
      "metadata": {
        "id": "gHn_limQl3BI",
        "colab": {
          "base_uri": "https://localhost:8080/"
        },
        "outputId": "039c509d-21df-4513-d3ed-9d79a6ac2ae0"
      },
      "execution_count": 345,
      "outputs": [
        {
          "output_type": "stream",
          "name": "stdout",
          "text": [
            "45308\n"
          ]
        }
      ]
    },
    {
      "cell_type": "markdown",
      "metadata": {
        "id": "gsfmaSGoItUm"
      },
      "source": [
        "**Ответ**\n",
        "\n",
        "```\n",
        "Прошлый размер словаря: 79755\n",
        "Новый размер словаря:   45308\n",
        "```\n",
        "\n",
        "Как мы видим, мы серьезно уменьшили наш словарь, изменив подход и убрав оттуда ненужный мусор.\n",
        "\n",
        "---"
      ]
    },
    {
      "cell_type": "markdown",
      "metadata": {
        "id": "lm6UHNmqKZT0"
      },
      "source": [
        "Посмотрим на какой-нибудь конкретный твитт:"
      ]
    },
    {
      "cell_type": "code",
      "execution_count": 346,
      "metadata": {
        "id": "aJVjjfqOJh8m",
        "colab": {
          "base_uri": "https://localhost:8080/"
        },
        "outputId": "8b8d92ad-1315-4d13-d378-bc7c414669aa"
      },
      "outputs": [
        {
          "output_type": "execute_result",
          "data": {
            "text/plain": [
              "('Nice one @SkyNews lets not panic but show ppl in france queueing for food!!! #CoronavirusOutbreak #COVID2019 brainless!! Ffs',\n",
              " 0)"
            ]
          },
          "metadata": {},
          "execution_count": 346
        }
      ],
      "source": [
        "ind = 9023\n",
        "train.iloc[ind]['OriginalTweet'], train.iloc[ind]['Sentiment']"
      ]
    },
    {
      "cell_type": "markdown",
      "metadata": {
        "id": "PBMIHBI5KdaS"
      },
      "source": [
        "Автор твитта не доволен ситуацией с едой во Франции и текст имеет резко негативную окраску.\n",
        "\n",
        "Примените обученный CountVectorizer для векторизации данного текста, и попытайтесь определить самый важный токен и самый неважный токен (токен, компонента которого в векторе максимальна/минимальна, без учета 0). Хорошо ли они определились, почему?"
      ]
    },
    {
      "cell_type": "code",
      "execution_count": 347,
      "metadata": {
        "id": "7NcAllaEKsJj",
        "colab": {
          "base_uri": "https://localhost:8080/"
        },
        "outputId": "9848f1ce-a95c-4a24-9f46-12b24e24ee20"
      },
      "outputs": [
        {
          "output_type": "execute_result",
          "data": {
            "text/plain": [
              "[(1, 'show'),\n",
              " (1, 'queueing'),\n",
              " (1, 'ppl'),\n",
              " (1, 'panic'),\n",
              " (1, 'one'),\n",
              " (1, 'nice'),\n",
              " (1, 'lets'),\n",
              " (1, 'france'),\n",
              " (1, 'food'),\n",
              " (1, 'ffs'),\n",
              " (1, 'brainless'),\n",
              " (1, '@skynews'),\n",
              " (1, '#covid2019'),\n",
              " (1, '#coronavirusoutbreak')]"
            ]
          },
          "metadata": {},
          "execution_count": 347
        }
      ],
      "source": [
        "result = cv.transform([train.iloc[ind]['OriginalTweet']])\n",
        "result = result.toarray()\n",
        "tokens = cv.get_feature_names_out()\n",
        "\n",
        "words_counted = []\n",
        "\n",
        "for index in range(len(tokens)):\n",
        "    if result[0][index] != 0:\n",
        "        words_counted.append((result[0][index], tokens[index]))\n",
        "\n",
        "sorted(words_counted, reverse=True)"
      ]
    },
    {
      "cell_type": "markdown",
      "metadata": {
        "id": "TpEsl1k_NF4T"
      },
      "source": [
        "**Ответ:** Видно, что все слова используются по одному разу, поэтому CountVectorizer не смог определить, какие из них важнее и они все имеет вес 1. (Это плохо)\n",
        "\n",
        "---"
      ]
    },
    {
      "cell_type": "markdown",
      "metadata": {
        "id": "w4DsEQpLO3J6"
      },
      "source": [
        "Теперь примените TfidfVectorizer и  определите самый важный/неважный токены. Хорошо ли определились, почему?"
      ]
    },
    {
      "cell_type": "code",
      "execution_count": 348,
      "metadata": {
        "id": "uSNzdK3ENGB3",
        "colab": {
          "base_uri": "https://localhost:8080/"
        },
        "outputId": "6f9d4cd1-787e-41e7-d9bf-bfb6f11d70b3"
      },
      "outputs": [
        {
          "output_type": "execute_result",
          "data": {
            "text/plain": [
              "[(0.38676411704663755, 'brainless'),\n",
              " (0.3543455633321655, 'queueing'),\n",
              " (0.3244741764513268, 'ffs'),\n",
              " (0.3204731404653966, 'france'),\n",
              " (0.31042634466284263, '@skynews'),\n",
              " (0.30121070136861045, 'lets'),\n",
              " (0.2550064610386691, 'ppl'),\n",
              " (0.2542729176022132, 'nice'),\n",
              " (0.24406492401820118, 'show'),\n",
              " (0.22584265007428547, '#coronavirusoutbreak'),\n",
              " (0.16825192939361902, '#covid2019'),\n",
              " (0.16306722855395075, 'one'),\n",
              " (0.14759470306326167, 'panic'),\n",
              " (0.11328893069250723, 'food')]"
            ]
          },
          "metadata": {},
          "execution_count": 348
        }
      ],
      "source": [
        "from sklearn.feature_extraction.text import TfidfVectorizer\n",
        "\n",
        "tfv = TfidfVectorizer(tokenizer=custom_tokenizer)\n",
        "tfv.fit(train['OriginalTweet'])\n",
        "\n",
        "result_tf = tfv.transform([train.iloc[ind]['OriginalTweet']])\n",
        "result_tf = result_tf.toarray()\n",
        "tokens_tf = tfv.get_feature_names_out()\n",
        "\n",
        "words_counted_tf = []\n",
        "\n",
        "for index in range(len(tokens_tf)):\n",
        "    if result_tf[0][index] != 0:\n",
        "        words_counted_tf.append((result_tf[0][index], tokens_tf[index]))\n",
        "\n",
        "sorted(words_counted_tf, reverse=True)"
      ]
    },
    {
      "cell_type": "markdown",
      "metadata": {
        "id": "NYao_UhqQADm"
      },
      "source": [
        "**Ответ**\n",
        "\n",
        "Можно сказать, что токены хорошо определились - твит отрицательный, поэтому самое важное слово brainless.\n",
        "\n",
        "---"
      ]
    },
    {
      "cell_type": "markdown",
      "metadata": {
        "id": "LGRJPqfWSesQ"
      },
      "source": [
        "Найдите какой-нибудь положительно окрашенный твитт, где TfidfVectorizer хорошо (полезно для определения окраски) выделяет важный токен, поясните пример.\n",
        "\n",
        "*Подсказка:* явно положительные твитты можно искать при помощи положительных слов (good, great, amazing и т. д.)"
      ]
    },
    {
      "cell_type": "code",
      "execution_count": 349,
      "metadata": {
        "id": "bRbQ2CHiSuJI",
        "colab": {
          "base_uri": "https://localhost:8080/",
          "height": 544
        },
        "outputId": "d309c715-d321-4185-a1a7-e200a543bbcf"
      },
      "outputs": [
        {
          "output_type": "execute_result",
          "data": {
            "text/plain": [
              "       UserName  ScreenName                 Location     TweetAt  \\\n",
              "27777     37849       82801  Norfolk County, Ontario  08-04-2020   \n",
              "19989     28169       73121                Baltimore  26-03-2020   \n",
              "28048     38196       83148               New Jersey  08-04-2020   \n",
              "22767     31620       76572           United Kingdom  03-04-2020   \n",
              "8677      14341       59293             New York, NY  20-03-2020   \n",
              "17765     25410       70362           Burlington, VT  25-03-2020   \n",
              "\n",
              "                                           OriginalTweet  Sentiment  \n",
              "27777  StatCan Study: Canadian consumers prepare for ...          1  \n",
              "19989  really fascinating how HEB, a supermarket chai...          1  \n",
              "28048  Really fascinating look at how consumer behavi...          1  \n",
              "22767  WimbledonÃÂs only strawberry? provider @Hugh...          1  \n",
              "8677   Really fascinating moment in food retail as th...          1  \n",
              "17765  This is a fascinating view COVID-19 trends and...          1  "
            ],
            "text/html": [
              "\n",
              "  <div id=\"df-275b53c2-c6e1-47e6-a929-4954e35efa45\" class=\"colab-df-container\">\n",
              "    <div>\n",
              "<style scoped>\n",
              "    .dataframe tbody tr th:only-of-type {\n",
              "        vertical-align: middle;\n",
              "    }\n",
              "\n",
              "    .dataframe tbody tr th {\n",
              "        vertical-align: top;\n",
              "    }\n",
              "\n",
              "    .dataframe thead th {\n",
              "        text-align: right;\n",
              "    }\n",
              "</style>\n",
              "<table border=\"1\" class=\"dataframe\">\n",
              "  <thead>\n",
              "    <tr style=\"text-align: right;\">\n",
              "      <th></th>\n",
              "      <th>UserName</th>\n",
              "      <th>ScreenName</th>\n",
              "      <th>Location</th>\n",
              "      <th>TweetAt</th>\n",
              "      <th>OriginalTweet</th>\n",
              "      <th>Sentiment</th>\n",
              "    </tr>\n",
              "  </thead>\n",
              "  <tbody>\n",
              "    <tr>\n",
              "      <th>27777</th>\n",
              "      <td>37849</td>\n",
              "      <td>82801</td>\n",
              "      <td>Norfolk County, Ontario</td>\n",
              "      <td>08-04-2020</td>\n",
              "      <td>StatCan Study: Canadian consumers prepare for ...</td>\n",
              "      <td>1</td>\n",
              "    </tr>\n",
              "    <tr>\n",
              "      <th>19989</th>\n",
              "      <td>28169</td>\n",
              "      <td>73121</td>\n",
              "      <td>Baltimore</td>\n",
              "      <td>26-03-2020</td>\n",
              "      <td>really fascinating how HEB, a supermarket chai...</td>\n",
              "      <td>1</td>\n",
              "    </tr>\n",
              "    <tr>\n",
              "      <th>28048</th>\n",
              "      <td>38196</td>\n",
              "      <td>83148</td>\n",
              "      <td>New Jersey</td>\n",
              "      <td>08-04-2020</td>\n",
              "      <td>Really fascinating look at how consumer behavi...</td>\n",
              "      <td>1</td>\n",
              "    </tr>\n",
              "    <tr>\n",
              "      <th>22767</th>\n",
              "      <td>31620</td>\n",
              "      <td>76572</td>\n",
              "      <td>United Kingdom</td>\n",
              "      <td>03-04-2020</td>\n",
              "      <td>WimbledonÃÂs only strawberry? provider @Hugh...</td>\n",
              "      <td>1</td>\n",
              "    </tr>\n",
              "    <tr>\n",
              "      <th>8677</th>\n",
              "      <td>14341</td>\n",
              "      <td>59293</td>\n",
              "      <td>New York, NY</td>\n",
              "      <td>20-03-2020</td>\n",
              "      <td>Really fascinating moment in food retail as th...</td>\n",
              "      <td>1</td>\n",
              "    </tr>\n",
              "    <tr>\n",
              "      <th>17765</th>\n",
              "      <td>25410</td>\n",
              "      <td>70362</td>\n",
              "      <td>Burlington, VT</td>\n",
              "      <td>25-03-2020</td>\n",
              "      <td>This is a fascinating view COVID-19 trends and...</td>\n",
              "      <td>1</td>\n",
              "    </tr>\n",
              "  </tbody>\n",
              "</table>\n",
              "</div>\n",
              "    <div class=\"colab-df-buttons\">\n",
              "\n",
              "  <div class=\"colab-df-container\">\n",
              "    <button class=\"colab-df-convert\" onclick=\"convertToInteractive('df-275b53c2-c6e1-47e6-a929-4954e35efa45')\"\n",
              "            title=\"Convert this dataframe to an interactive table.\"\n",
              "            style=\"display:none;\">\n",
              "\n",
              "  <svg xmlns=\"http://www.w3.org/2000/svg\" height=\"24px\" viewBox=\"0 -960 960 960\">\n",
              "    <path d=\"M120-120v-720h720v720H120Zm60-500h600v-160H180v160Zm220 220h160v-160H400v160Zm0 220h160v-160H400v160ZM180-400h160v-160H180v160Zm440 0h160v-160H620v160ZM180-180h160v-160H180v160Zm440 0h160v-160H620v160Z\"/>\n",
              "  </svg>\n",
              "    </button>\n",
              "\n",
              "  <style>\n",
              "    .colab-df-container {\n",
              "      display:flex;\n",
              "      gap: 12px;\n",
              "    }\n",
              "\n",
              "    .colab-df-convert {\n",
              "      background-color: #E8F0FE;\n",
              "      border: none;\n",
              "      border-radius: 50%;\n",
              "      cursor: pointer;\n",
              "      display: none;\n",
              "      fill: #1967D2;\n",
              "      height: 32px;\n",
              "      padding: 0 0 0 0;\n",
              "      width: 32px;\n",
              "    }\n",
              "\n",
              "    .colab-df-convert:hover {\n",
              "      background-color: #E2EBFA;\n",
              "      box-shadow: 0px 1px 2px rgba(60, 64, 67, 0.3), 0px 1px 3px 1px rgba(60, 64, 67, 0.15);\n",
              "      fill: #174EA6;\n",
              "    }\n",
              "\n",
              "    .colab-df-buttons div {\n",
              "      margin-bottom: 4px;\n",
              "    }\n",
              "\n",
              "    [theme=dark] .colab-df-convert {\n",
              "      background-color: #3B4455;\n",
              "      fill: #D2E3FC;\n",
              "    }\n",
              "\n",
              "    [theme=dark] .colab-df-convert:hover {\n",
              "      background-color: #434B5C;\n",
              "      box-shadow: 0px 1px 3px 1px rgba(0, 0, 0, 0.15);\n",
              "      filter: drop-shadow(0px 1px 2px rgba(0, 0, 0, 0.3));\n",
              "      fill: #FFFFFF;\n",
              "    }\n",
              "  </style>\n",
              "\n",
              "    <script>\n",
              "      const buttonEl =\n",
              "        document.querySelector('#df-275b53c2-c6e1-47e6-a929-4954e35efa45 button.colab-df-convert');\n",
              "      buttonEl.style.display =\n",
              "        google.colab.kernel.accessAllowed ? 'block' : 'none';\n",
              "\n",
              "      async function convertToInteractive(key) {\n",
              "        const element = document.querySelector('#df-275b53c2-c6e1-47e6-a929-4954e35efa45');\n",
              "        const dataTable =\n",
              "          await google.colab.kernel.invokeFunction('convertToInteractive',\n",
              "                                                    [key], {});\n",
              "        if (!dataTable) return;\n",
              "\n",
              "        const docLinkHtml = 'Like what you see? Visit the ' +\n",
              "          '<a target=\"_blank\" href=https://colab.research.google.com/notebooks/data_table.ipynb>data table notebook</a>'\n",
              "          + ' to learn more about interactive tables.';\n",
              "        element.innerHTML = '';\n",
              "        dataTable['output_type'] = 'display_data';\n",
              "        await google.colab.output.renderOutput(dataTable, element);\n",
              "        const docLink = document.createElement('div');\n",
              "        docLink.innerHTML = docLinkHtml;\n",
              "        element.appendChild(docLink);\n",
              "      }\n",
              "    </script>\n",
              "  </div>\n",
              "\n",
              "\n",
              "<div id=\"df-1892c44e-1b52-4756-a381-f6e657b0f10d\">\n",
              "  <button class=\"colab-df-quickchart\" onclick=\"quickchart('df-1892c44e-1b52-4756-a381-f6e657b0f10d')\"\n",
              "            title=\"Suggest charts\"\n",
              "            style=\"display:none;\">\n",
              "\n",
              "<svg xmlns=\"http://www.w3.org/2000/svg\" height=\"24px\"viewBox=\"0 0 24 24\"\n",
              "     width=\"24px\">\n",
              "    <g>\n",
              "        <path d=\"M19 3H5c-1.1 0-2 .9-2 2v14c0 1.1.9 2 2 2h14c1.1 0 2-.9 2-2V5c0-1.1-.9-2-2-2zM9 17H7v-7h2v7zm4 0h-2V7h2v10zm4 0h-2v-4h2v4z\"/>\n",
              "    </g>\n",
              "</svg>\n",
              "  </button>\n",
              "\n",
              "<style>\n",
              "  .colab-df-quickchart {\n",
              "      --bg-color: #E8F0FE;\n",
              "      --fill-color: #1967D2;\n",
              "      --hover-bg-color: #E2EBFA;\n",
              "      --hover-fill-color: #174EA6;\n",
              "      --disabled-fill-color: #AAA;\n",
              "      --disabled-bg-color: #DDD;\n",
              "  }\n",
              "\n",
              "  [theme=dark] .colab-df-quickchart {\n",
              "      --bg-color: #3B4455;\n",
              "      --fill-color: #D2E3FC;\n",
              "      --hover-bg-color: #434B5C;\n",
              "      --hover-fill-color: #FFFFFF;\n",
              "      --disabled-bg-color: #3B4455;\n",
              "      --disabled-fill-color: #666;\n",
              "  }\n",
              "\n",
              "  .colab-df-quickchart {\n",
              "    background-color: var(--bg-color);\n",
              "    border: none;\n",
              "    border-radius: 50%;\n",
              "    cursor: pointer;\n",
              "    display: none;\n",
              "    fill: var(--fill-color);\n",
              "    height: 32px;\n",
              "    padding: 0;\n",
              "    width: 32px;\n",
              "  }\n",
              "\n",
              "  .colab-df-quickchart:hover {\n",
              "    background-color: var(--hover-bg-color);\n",
              "    box-shadow: 0 1px 2px rgba(60, 64, 67, 0.3), 0 1px 3px 1px rgba(60, 64, 67, 0.15);\n",
              "    fill: var(--button-hover-fill-color);\n",
              "  }\n",
              "\n",
              "  .colab-df-quickchart-complete:disabled,\n",
              "  .colab-df-quickchart-complete:disabled:hover {\n",
              "    background-color: var(--disabled-bg-color);\n",
              "    fill: var(--disabled-fill-color);\n",
              "    box-shadow: none;\n",
              "  }\n",
              "\n",
              "  .colab-df-spinner {\n",
              "    border: 2px solid var(--fill-color);\n",
              "    border-color: transparent;\n",
              "    border-bottom-color: var(--fill-color);\n",
              "    animation:\n",
              "      spin 1s steps(1) infinite;\n",
              "  }\n",
              "\n",
              "  @keyframes spin {\n",
              "    0% {\n",
              "      border-color: transparent;\n",
              "      border-bottom-color: var(--fill-color);\n",
              "      border-left-color: var(--fill-color);\n",
              "    }\n",
              "    20% {\n",
              "      border-color: transparent;\n",
              "      border-left-color: var(--fill-color);\n",
              "      border-top-color: var(--fill-color);\n",
              "    }\n",
              "    30% {\n",
              "      border-color: transparent;\n",
              "      border-left-color: var(--fill-color);\n",
              "      border-top-color: var(--fill-color);\n",
              "      border-right-color: var(--fill-color);\n",
              "    }\n",
              "    40% {\n",
              "      border-color: transparent;\n",
              "      border-right-color: var(--fill-color);\n",
              "      border-top-color: var(--fill-color);\n",
              "    }\n",
              "    60% {\n",
              "      border-color: transparent;\n",
              "      border-right-color: var(--fill-color);\n",
              "    }\n",
              "    80% {\n",
              "      border-color: transparent;\n",
              "      border-right-color: var(--fill-color);\n",
              "      border-bottom-color: var(--fill-color);\n",
              "    }\n",
              "    90% {\n",
              "      border-color: transparent;\n",
              "      border-bottom-color: var(--fill-color);\n",
              "    }\n",
              "  }\n",
              "</style>\n",
              "\n",
              "  <script>\n",
              "    async function quickchart(key) {\n",
              "      const quickchartButtonEl =\n",
              "        document.querySelector('#' + key + ' button');\n",
              "      quickchartButtonEl.disabled = true;  // To prevent multiple clicks.\n",
              "      quickchartButtonEl.classList.add('colab-df-spinner');\n",
              "      try {\n",
              "        const charts = await google.colab.kernel.invokeFunction(\n",
              "            'suggestCharts', [key], {});\n",
              "      } catch (error) {\n",
              "        console.error('Error during call to suggestCharts:', error);\n",
              "      }\n",
              "      quickchartButtonEl.classList.remove('colab-df-spinner');\n",
              "      quickchartButtonEl.classList.add('colab-df-quickchart-complete');\n",
              "    }\n",
              "    (() => {\n",
              "      let quickchartButtonEl =\n",
              "        document.querySelector('#df-1892c44e-1b52-4756-a381-f6e657b0f10d button');\n",
              "      quickchartButtonEl.style.display =\n",
              "        google.colab.kernel.accessAllowed ? 'block' : 'none';\n",
              "    })();\n",
              "  </script>\n",
              "</div>\n",
              "    </div>\n",
              "  </div>\n"
            ],
            "application/vnd.google.colaboratory.intrinsic+json": {
              "type": "dataframe",
              "summary": "{\n  \"name\": \"train[train['OriginalTweet']\",\n  \"rows\": 6,\n  \"fields\": [\n    {\n      \"column\": \"UserName\",\n      \"properties\": {\n        \"dtype\": \"number\",\n        \"std\": 8919,\n        \"min\": 14341,\n        \"max\": 38196,\n        \"num_unique_values\": 6,\n        \"samples\": [\n          37849,\n          28169,\n          25410\n        ],\n        \"semantic_type\": \"\",\n        \"description\": \"\"\n      }\n    },\n    {\n      \"column\": \"ScreenName\",\n      \"properties\": {\n        \"dtype\": \"number\",\n        \"std\": 8919,\n        \"min\": 59293,\n        \"max\": 83148,\n        \"num_unique_values\": 6,\n        \"samples\": [\n          82801,\n          73121,\n          70362\n        ],\n        \"semantic_type\": \"\",\n        \"description\": \"\"\n      }\n    },\n    {\n      \"column\": \"Location\",\n      \"properties\": {\n        \"dtype\": \"string\",\n        \"num_unique_values\": 6,\n        \"samples\": [\n          \"Norfolk County, Ontario\",\n          \"Baltimore\",\n          \"Burlington, VT\"\n        ],\n        \"semantic_type\": \"\",\n        \"description\": \"\"\n      }\n    },\n    {\n      \"column\": \"TweetAt\",\n      \"properties\": {\n        \"dtype\": \"string\",\n        \"num_unique_values\": 5,\n        \"samples\": [\n          \"26-03-2020\",\n          \"25-03-2020\",\n          \"03-04-2020\"\n        ],\n        \"semantic_type\": \"\",\n        \"description\": \"\"\n      }\n    },\n    {\n      \"column\": \"OriginalTweet\",\n      \"properties\": {\n        \"dtype\": \"string\",\n        \"num_unique_values\": 6,\n        \"samples\": [\n          \"StatCan Study: Canadian consumers prepare for COVID-19 \\r\\r\\n\\r\\r\\nA fascinating look at Canadian trends in consumer demand and sales using transaction data for grocery products up to the week ending March 14, 2020. Does this match your experience?\\r\\r\\n\\r\\r\\nhttps://t.co/RZTymwg053\",\n          \"really fascinating how HEB, a supermarket chain in Texas, prepared for the #coronavirus. I hope it will be a model for others. https://t.co/CIn6DrwuUf\",\n          \"This is a fascinating view COVID-19 trends and consumer impact from Glimpse: https://t.co/6sUs6IOSxB https://t.co/ChczCmeenT\"\n        ],\n        \"semantic_type\": \"\",\n        \"description\": \"\"\n      }\n    },\n    {\n      \"column\": \"Sentiment\",\n      \"properties\": {\n        \"dtype\": \"number\",\n        \"std\": 0,\n        \"min\": 1,\n        \"max\": 1,\n        \"num_unique_values\": 1,\n        \"samples\": [\n          1\n        ],\n        \"semantic_type\": \"\",\n        \"description\": \"\"\n      }\n    }\n  ]\n}"
            }
          },
          "metadata": {},
          "execution_count": 349
        }
      ],
      "source": [
        "train[train['OriginalTweet'].apply(lambda x: 'fascinating' in x) & (train['Sentiment'] == 1)]"
      ]
    },
    {
      "cell_type": "code",
      "source": [
        "# Будем рассматривать твит 9066\n",
        "ind = 17765\n",
        "# Для начала полностью выведем его текст\n",
        "print(train.loc[ind]['OriginalTweet'])\n",
        "\n",
        "# Получим результаты TfidfVectorizer\n",
        "result_tf = tfv.transform([train.loc[ind]['OriginalTweet']])\n",
        "result_tf = result_tf.toarray()\n",
        "tokens_tf = tfv.get_feature_names_out()\n",
        "\n",
        "# Красиво выведем эти результаты\n",
        "words_counted_tf = []\n",
        "for index in range(len(tokens_tf)):\n",
        "    if result_tf[0][index] != 0:\n",
        "        words_counted_tf.append((result_tf[0][index], tokens_tf[index]))\n",
        "\n",
        "sorted(words_counted_tf, reverse=True)"
      ],
      "metadata": {
        "id": "jSjbKPCWk87K",
        "colab": {
          "base_uri": "https://localhost:8080/"
        },
        "outputId": "d9a4baac-43ff-4d22-a594-cdc16ab11237"
      },
      "execution_count": 350,
      "outputs": [
        {
          "output_type": "stream",
          "name": "stdout",
          "text": [
            "This is a fascinating view COVID-19 trends and consumer impact from Glimpse: https://t.co/6sUs6IOSxB https://t.co/ChczCmeenT\n"
          ]
        },
        {
          "output_type": "execute_result",
          "data": {
            "text/plain": [
              "[(0.5405780248835753, 'glimpse'),\n",
              " (0.4765071724543985, 'fascinating'),\n",
              " (0.4181028907097591, 'view'),\n",
              " (0.3852964269033738, 'trends'),\n",
              " (0.28996118585140523, 'impact'),\n",
              " (0.19515461269767173, 'consumer'),\n",
              " (0.1367073275322579, 'covid'),\n",
              " (0.1288458158015994, '19')]"
            ]
          },
          "metadata": {},
          "execution_count": 350
        }
      ]
    },
    {
      "cell_type": "markdown",
      "metadata": {
        "id": "JTv9ST2_U6NA"
      },
      "source": [
        "**Ответ:** в данном примере мы выделели самыми важными 'glimpse' and 'fascinating'. Первое - это название какого-то агенства, а второе слово показывает отношение - fascinating (очень интересно), то есть твит положительно окрашенный.\n",
        "\n",
        "---"
      ]
    },
    {
      "cell_type": "markdown",
      "metadata": {
        "id": "JVEuZm8BHms6"
      },
      "source": [
        "## Задание 4 Обучение первых моделей (1 балл)"
      ]
    },
    {
      "cell_type": "markdown",
      "metadata": {
        "id": "JADkO3sfXdOG"
      },
      "source": [
        "Примените оба векторайзера для получения матриц с признаками текстов.  Выделите целевую переменную."
      ]
    },
    {
      "cell_type": "code",
      "execution_count": 351,
      "metadata": {
        "id": "DguoiXhCX2oN"
      },
      "outputs": [],
      "source": [
        "from sklearn.feature_extraction.text import CountVectorizer\n",
        "from sklearn.feature_extraction.text import TfidfVectorizer\n",
        "\n",
        "# Применяем векторайзер\n",
        "cv = CountVectorizer(tokenizer=custom_tokenizer)\n",
        "X_train_cv = cv.fit_transform(train['OriginalTweet'])\n",
        "X_test_cv = cv.transform(test['OriginalTweet'])\n",
        "\n",
        "# И второй тоже\n",
        "tfv = TfidfVectorizer(tokenizer=custom_tokenizer)\n",
        "X_train_tfv = tfv.fit_transform(train['OriginalTweet'])\n",
        "X_test_tfv = tfv.transform(test['OriginalTweet'])\n",
        "\n",
        "# Выделяем целевую переменную\n",
        "y_train = train['Sentiment']\n",
        "y_test = test['Sentiment']"
      ]
    },
    {
      "cell_type": "markdown",
      "metadata": {
        "id": "_FX1KSOfYSx4"
      },
      "source": [
        "Обучите логистическую регрессию на векторах из обоих векторайзеров. Посчитайте долю правильных ответов на обучающих и тестовых данных. Какой векторайзер показал лучший результат? Что можно сказать о моделях?"
      ]
    },
    {
      "cell_type": "code",
      "execution_count": 352,
      "metadata": {
        "id": "-Tb3eh8UXJ6v",
        "colab": {
          "base_uri": "https://localhost:8080/"
        },
        "outputId": "78fc847f-bf8d-413d-cadd-a54e99baa060"
      },
      "outputs": [
        {
          "output_type": "stream",
          "name": "stdout",
          "text": [
            "==== CountVectorizer ====\n",
            "Accuracy on train:  0.984\n",
            "Accuracy on test:   0.867\n",
            "==== TfidfVectorizer ====\n",
            "Accuracy on train:  0.925\n",
            "Accuracy on test:   0.853\n"
          ]
        }
      ],
      "source": [
        "from sklearn.linear_model import LogisticRegression\n",
        "from sklearn.metrics import accuracy_score\n",
        "\n",
        "print(\"==== CountVectorizer ====\")\n",
        "model_cv = LogisticRegression()\n",
        "model_cv.fit(X_train_cv, y_train)\n",
        "\n",
        "y_train_pred_cv = model_cv.predict(X_train_cv)\n",
        "y_test_pred_cv = model_cv.predict(X_test_cv)\n",
        "print(f'Accuracy on train:  {accuracy_score(y_train, y_train_pred_cv):.3f}')\n",
        "print(f'Accuracy on test:   {accuracy_score(y_test, y_test_pred_cv):.3f}')\n",
        "\n",
        "print(\"==== TfidfVectorizer ====\")\n",
        "model_tfv = LogisticRegression()\n",
        "model_tfv.fit(X_train_tfv, y_train)\n",
        "\n",
        "y_train_pred_tfv = model_tfv.predict(X_train_tfv)\n",
        "y_test_pred_tfv = model_tfv.predict(X_test_tfv)\n",
        "print(f'Accuracy on train:  {accuracy_score(y_train, y_train_pred_tfv):.3f}')\n",
        "print(f'Accuracy on test:   {accuracy_score(y_test, y_test_pred_tfv):.3f}')"
      ]
    },
    {
      "cell_type": "markdown",
      "metadata": {
        "id": "8y_wO7rCmv7K"
      },
      "source": [
        "**Ответ:** как можно заметить первая  точно переобучилась, вторая вероятно тоже, но гораздо меньше. Хотя по значениям accuracy на тесте мы также видим, что несмотря на переобучение первая модель довольно хорошо справилась с задачей (лучше чем Tfidf).\n",
        "\n",
        "---"
      ]
    },
    {
      "cell_type": "markdown",
      "metadata": {
        "id": "rSOR1i3mjrys"
      },
      "source": [
        "## Задание 5 Стемминг (0.5 балла)"
      ]
    },
    {
      "cell_type": "markdown",
      "metadata": {
        "id": "i6ONBWNPjuq-"
      },
      "source": [
        "Для уменьшения словаря можно использовать стемминг.\n",
        "\n",
        "Модифицируйте написанный токенайзер, добавив в него стемминг с использованием SnowballStemmer. Обучите Count- и Tfidf- векторайзеры. Как изменился размер словаря?"
      ]
    },
    {
      "cell_type": "code",
      "execution_count": 353,
      "metadata": {
        "id": "oVfA2-iMkQBb"
      },
      "outputs": [],
      "source": [
        "from nltk.stem.snowball import SnowballStemmer\n",
        "\n",
        "def custom_stem_tokenizer(text):\n",
        "    stemmer = SnowballStemmer(\"english\")\n",
        "    tokens = [stemmer.stem(word) for word in custom_tokenizer(text)]\n",
        "    return tokens"
      ]
    },
    {
      "cell_type": "code",
      "execution_count": 354,
      "metadata": {
        "id": "9QmrjYtqnlPd",
        "colab": {
          "base_uri": "https://localhost:8080/"
        },
        "outputId": "e4dc9a14-6bda-4061-a819-6772b328e058"
      },
      "outputs": [
        {
          "output_type": "execute_result",
          "data": {
            "text/plain": [
              "['sampl', 'text', '@sample_text', '#sampletext', 'ad', 'word', 'check', 'stem']"
            ]
          },
          "metadata": {},
          "execution_count": 354
        }
      ],
      "source": [
        "custom_stem_tokenizer('This is sample text!!!! @Sample_text I, \\x92\\x92 https://t.co/sample  #sampletext adding more words to check stemming')"
      ]
    },
    {
      "cell_type": "code",
      "execution_count": 355,
      "metadata": {
        "id": "zAvUTmaplzOS",
        "colab": {
          "base_uri": "https://localhost:8080/"
        },
        "outputId": "c17f6440-636c-42e1-8f04-0b7ee54748cf"
      },
      "outputs": [
        {
          "output_type": "stream",
          "name": "stdout",
          "text": [
            "Размер словаря: 36652\n"
          ]
        }
      ],
      "source": [
        "from sklearn.feature_extraction.text import CountVectorizer\n",
        "from sklearn.feature_extraction.text import TfidfVectorizer\n",
        "\n",
        "# Обучаем векторайзеры\n",
        "cv = CountVectorizer(tokenizer=custom_stem_tokenizer)\n",
        "cv.fit(train['OriginalTweet'])\n",
        "tfv = TfidfVectorizer(tokenizer=custom_stem_tokenizer)\n",
        "tfv.fit(train['OriginalTweet'])\n",
        "\n",
        "print(f'Размер словаря: {len(cv.vocabulary_)}')"
      ]
    },
    {
      "cell_type": "markdown",
      "metadata": {
        "id": "Oyzs5TaAoHP6"
      },
      "source": [
        "**Ответ** размер нашего словаря еще уменьшился, значит мы сделали все правильно, теперь разные формы слов рассматриваются как одно и то же слово.\n",
        "\n",
        "---"
      ]
    },
    {
      "cell_type": "markdown",
      "metadata": {
        "id": "1OkncHI8oRmd"
      },
      "source": [
        "Обучите логистическую регрессию с использованием обоих векторайзеров. Изменилось ли качество? Есть ли смысл применять стемминг?"
      ]
    },
    {
      "cell_type": "code",
      "execution_count": 356,
      "metadata": {
        "id": "ykZJPphEoZ5W",
        "colab": {
          "base_uri": "https://localhost:8080/"
        },
        "outputId": "ac4e54a3-2e1d-454e-95da-06e569479bc1"
      },
      "outputs": [
        {
          "output_type": "stream",
          "name": "stdout",
          "text": [
            "==== CountVectorizer ====\n",
            "Accuracy on train:  0.972\n",
            "Accuracy on test:   0.867\n",
            "==== TfidfVectorizer ====\n",
            "Accuracy on train:  0.916\n",
            "Accuracy on test:   0.856\n"
          ]
        }
      ],
      "source": [
        "from sklearn.linear_model import LogisticRegression\n",
        "from sklearn.metrics import accuracy_score\n",
        "\n",
        "X_train_cv_stem = cv.transform(train['OriginalTweet'])\n",
        "X_test_cv_stem = cv.transform(test['OriginalTweet'])\n",
        "X_train_tfv_stem = tfv.transform(train['OriginalTweet'])\n",
        "X_test_tfv_stem = tfv.transform(test['OriginalTweet'])\n",
        "\n",
        "print(\"==== CountVectorizer ====\")\n",
        "model_cv.fit(X_train_cv_stem, y_train)\n",
        "\n",
        "y_train_pred_cv_stem = model_cv.predict(X_train_cv_stem)\n",
        "y_test_pred_cv_stem = model_cv.predict(X_test_cv_stem)\n",
        "print(f'Accuracy on train:  {accuracy_score(y_train, y_train_pred_cv_stem):.3f}')\n",
        "print(f'Accuracy on test:   {accuracy_score(y_test, y_test_pred_cv_stem):.3f}')\n",
        "\n",
        "print(\"==== TfidfVectorizer ====\")\n",
        "model_tfv.fit(X_train_tfv_stem, y_train)\n",
        "\n",
        "y_train_pred_tfv_stem = model_tfv.predict(X_train_tfv_stem)\n",
        "y_test_pred_tfv_stem = model_tfv.predict(X_test_tfv_stem)\n",
        "print(f'Accuracy on train:  {accuracy_score(y_train, y_train_pred_tfv_stem):.3f}')\n",
        "print(f'Accuracy on test:   {accuracy_score(y_test, y_test_pred_tfv_stem):.3f}')"
      ]
    },
    {
      "cell_type": "markdown",
      "metadata": {
        "id": "bCRlrODro0h8"
      },
      "source": [
        "**Ответ:** по результатам видно, что проблема переобучения при стемминге менее выраженна. Да и результаты на тестовой выборке стали лучше, поэтому использовать стемминг это хорошо.\n",
        "\n",
        "```\n",
        "           OLD                        WITH STEM\n",
        "==== CountVectorizer ====     ==== CountVectorizer ====\n",
        "Accuracy on train:  0.984     Accuracy on train:  0.972\n",
        "Accuracy on test:   0.867     Accuracy on test:   0.867\n",
        "==== TfidfVectorizer ====     ==== TfidfVectorizer ====\n",
        "Accuracy on train:  0.925     Accuracy on train:  0.916\n",
        "Accuracy on test:   0.853     Accuracy on test:   0.856\n",
        "```"
      ]
    },
    {
      "cell_type": "markdown",
      "metadata": {
        "id": "hYWGQNEDqLC-"
      },
      "source": [
        "## Задание  6 Работа с частотами (1.5 балла)"
      ]
    },
    {
      "cell_type": "markdown",
      "metadata": {
        "id": "8Hq-tl5mqUSn"
      },
      "source": [
        "Еще один способ уменьшить количество признаков - это использовать параметры min_df и max_df при построении векторайзера  эти параметры помогают ограничить требуемую частоту встречаемости токена в документах.\n",
        "\n",
        "По умолчанию берутся все токены, которые встретились хотя бы один раз.\n",
        "\n"
      ]
    },
    {
      "cell_type": "markdown",
      "metadata": {
        "id": "m1SiD4DE3WZ2"
      },
      "source": [
        "Подберите max_df такой, что размер словаря будет 36651 (на 1 меньше, чем было). Почему параметр получился такой большой/маленький?"
      ]
    },
    {
      "cell_type": "code",
      "source": [
        "cv_df = CountVectorizer(tokenizer=custom_stem_tokenizer,\n",
        "                        max_df=8000).fit(train['OriginalTweet'])\n",
        "print(len(cv_df.vocabulary_))"
      ],
      "metadata": {
        "id": "o3YLb8PViExb",
        "colab": {
          "base_uri": "https://localhost:8080/"
        },
        "outputId": "b3218d94-b86e-4625-8185-ca257a3d1baf"
      },
      "execution_count": 357,
      "outputs": [
        {
          "output_type": "stream",
          "name": "stdout",
          "text": [
            "36651\n"
          ]
        }
      ]
    },
    {
      "cell_type": "markdown",
      "metadata": {
        "id": "UdZYoGZR4UsA"
      },
      "source": [
        "**Ответ:** параметр получился большим, так как нам нужно убрать всего один объект, а так как это max_df, то мы убираем самый большой элемент => его значение довольно большое, поэтому нам нужно взять значение такое же большое.\n",
        "\n",
        "---"
      ]
    },
    {
      "cell_type": "markdown",
      "metadata": {
        "id": "_gRIUaB1u32f"
      },
      "source": [
        "Подберите min_df (используйте дефолтное значение max_df) в CountVectorizer таким образом, чтобы размер словаря был 3700 токенов (при использовании токенайзера со стеммингом), а качество осталось таким же, как и было. Что можно сказать о результатах?"
      ]
    },
    {
      "cell_type": "code",
      "execution_count": 358,
      "metadata": {
        "id": "kSnMJkn9XmsT",
        "colab": {
          "base_uri": "https://localhost:8080/"
        },
        "outputId": "89d4f04b-9827-4565-8858-d4cd20e62c86"
      },
      "outputs": [
        {
          "output_type": "stream",
          "name": "stdout",
          "text": [
            "3700\n"
          ]
        }
      ],
      "source": [
        "cv_df = CountVectorizer(tokenizer=custom_stem_tokenizer,\n",
        "                        min_df=11\n",
        "                        ).fit(train['OriginalTweet'])\n",
        "print(len(cv_df.vocabulary_))"
      ]
    },
    {
      "cell_type": "markdown",
      "metadata": {
        "id": "3fGYpUIZx0fk"
      },
      "source": [
        "**Ответ:** тут значение получилось маленькое, так как много токенов, которые не часто встречаются (2-10 раз) и мы хотим сократить словарь, но не сильно, поэтому мы делаем значение средне маленьким.\n",
        "\n",
        "---"
      ]
    },
    {
      "cell_type": "markdown",
      "source": [
        "В предыдущих заданиях признаки не скалировались. Отскалируйте данные (при словаре размера 3.7 тысяч, векторизованные CountVectorizer), обучите логистическую регрессию, посмотрите качество и выведите `barplot` содержащий по 10 токенов, с наибольшим по модулю положительными/отрицательными весами. Что можно сказать об этих токенах?"
      ],
      "metadata": {
        "id": "Gx_h_-inKbBl"
      }
    },
    {
      "cell_type": "code",
      "source": [
        "from sklearn.preprocessing import StandardScaler\n",
        "from sklearn.linear_model import LogisticRegression\n",
        "from sklearn.metrics import accuracy_score\n",
        "\n",
        "cv_df = CountVectorizer(tokenizer=custom_stem_tokenizer, min_df=11)\n",
        "cv_df.fit(df['OriginalTweet'])\n",
        "X_train = pd.DataFrame(cv_df.transform(train['OriginalTweet']).toarray(), columns=cv_df.get_feature_names_out())\n",
        "X_test = pd.DataFrame(cv_df.transform(test['OriginalTweet']).toarray(), columns=cv_df.get_feature_names_out())\n",
        "print(len(cv_df.vocabulary_))\n",
        "\n",
        "scaler = StandardScaler(with_mean=False)\n",
        "scaler.fit(X_train)\n",
        "X_train_scaled = scaler.transform(X_train)\n",
        "X_test_scaled = scaler.transform(X_test)\n",
        "\n",
        "\n",
        "model_cv = LogisticRegression()\n",
        "model_cv.fit(X_train_scaled, y_train)\n",
        "\n",
        "y_train_pred = model_cv.predict(X_train_scaled)\n",
        "y_test_pred = model_cv.predict(X_test_scaled)\n",
        "print(f'Accuracy on train:  {accuracy_score(y_train, y_train_pred):.3f}')\n",
        "print(f'Accuracy on test:   {accuracy_score(y_test, y_test_pred):.3f}')"
      ],
      "metadata": {
        "id": "KBATXJX6LG9q",
        "colab": {
          "base_uri": "https://localhost:8080/"
        },
        "outputId": "bde20c10-4eac-4d2a-f320-5baee3b796e3"
      },
      "execution_count": 359,
      "outputs": [
        {
          "output_type": "stream",
          "name": "stdout",
          "text": [
            "4593\n",
            "Accuracy on train:  0.963\n",
            "Accuracy on test:   0.827\n"
          ]
        }
      ]
    },
    {
      "cell_type": "markdown",
      "source": [
        "```\n",
        "           OLD                      OLD WITH STEM\n",
        "==== CountVectorizer ====     ==== CountVectorizer ====\n",
        "Accuracy on train:  0.984     Accuracy on train:  0.972\n",
        "Accuracy on test:   0.867     Accuracy on test:   0.867\n",
        "==== TfidfVectorizer ====     ==== TfidfVectorizer ====\n",
        "Accuracy on train:  0.925     Accuracy on train:  0.916\n",
        "Accuracy on test:   0.853     Accuracy on test:   0.856\n",
        "```\n",
        "\n",
        "Результаты получились самыми плохими для тестовой выборки..."
      ],
      "metadata": {
        "id": "zmimEFE9ypjc"
      }
    },
    {
      "cell_type": "code",
      "source": [
        "# тут просто строим график\n",
        "coefs = np.argsort((model_cv.coef_[0]))\n",
        "coefs = np.concatenate((coefs[:10], coefs[-10:]))\n",
        "\n",
        "names = cv_df.get_feature_names_out()[coefs]\n",
        "values = abs(model_cv.coef_[0][coefs])\n",
        "\n",
        "help = np.vectorize(lambda value: 'green' if value >= 0 else 'red')(model_cv.coef_[0][coefs])\n",
        "bar_labels = np.vectorize(lambda color: '_' + ('positive' if color == 'green' else 'negative'))(help)\n",
        "if np.any(np.isin('_positive', bar_labels)):\n",
        "    bar_labels[np.where(bar_labels == '_positive')[0][0]] = 'positive'\n",
        "if np.any(np.isin('_negative', bar_labels)):\n",
        "    bar_labels[np.where(bar_labels == '_negative')[0][0]] = 'negative'\n",
        "\n",
        "plt.figure(figsize=(15,8))\n",
        "plt.bar(names, values, color=help, label=bar_labels)\n",
        "plt.title('The most valuable features', fontweight='bold')\n",
        "plt.xlabel('Feature')\n",
        "plt.ylabel('Coefficient (absolute value)')\n",
        "plt.legend(title='Sign')\n",
        "plt.show()"
      ],
      "metadata": {
        "colab": {
          "base_uri": "https://localhost:8080/",
          "height": 718
        },
        "id": "yo95c2m1-Gz1",
        "outputId": "943acbd3-4e8c-4cb6-f861-64d5a5fcfa84"
      },
      "execution_count": 360,
      "outputs": [
        {
          "output_type": "display_data",
          "data": {
            "text/plain": [
              "<Figure size 1500x800 with 1 Axes>"
            ],
            "image/png": "[encoded data removed]"
          },
          "metadata": {}
        }
      ]
    },
    {
      "cell_type": "markdown",
      "source": [
        "**Ответ:** можно сказать, что логистическая регрессия довольно хорошо справилась с задачей выделения важных токенов.\n",
        "\n",
        "Среди признаков с большими положительными коэффициентами есть только хорошие слова, которые реально показывают принадлежность к положительным комментариям: 'support', 'free', 'help', 'thank', 'best' и т.д.\n",
        "\n",
        "Среди отрицательных - самое плохое, это 'crisi' (вероятно 'crisis' - кризис), затем 'panic', 'scam', 'kill' и т.д. Все это показывает, что комментарий скорей всего отрицательный."
      ],
      "metadata": {
        "id": "ThcEfzY1LHET"
      }
    },
    {
      "cell_type": "markdown",
      "metadata": {
        "id": "ktJVOdrIHq7B"
      },
      "source": [
        "## Задание 7 Другие признаки (1.5 балла)"
      ]
    },
    {
      "cell_type": "markdown",
      "metadata": {
        "id": "Yt3jRCZ2H0Og"
      },
      "source": [
        "Мы были сконцентрированы на работе с текстами твиттов и не использовали другие признаки - имена пользователя, дату и местоположение"
      ]
    },
    {
      "cell_type": "markdown",
      "metadata": {
        "id": "52wjewCCo_di"
      },
      "source": [
        "Изучите признаки UserName и ScreenName. полезны ли они? Если полезны, то закодируйте их, добавьте к матрице с отскалированными признаками, обучите логистическую регрессию, замерьте качество."
      ]
    },
    {
      "cell_type": "code",
      "execution_count": 361,
      "metadata": {
        "id": "63thouYZptj6",
        "colab": {
          "base_uri": "https://localhost:8080/"
        },
        "outputId": "18e10a69-4c54-4d7c-c5ff-a66720fd9ce1"
      },
      "outputs": [
        {
          "output_type": "stream",
          "name": "stdout",
          "text": [
            "================ UserName ================\n",
            "Размер столбца UserName:             33444\n",
            "Количество различных значений в нем: 33444\n",
            "=============== ScreenName ===============\n",
            "Размер столбца ScreenName:           33444\n",
            "Количество различных значений в нем: 33444\n"
          ]
        }
      ],
      "source": [
        "size = len(df['UserName'])\n",
        "distinct_size = len(set(df['UserName']))\n",
        "size_sc = len(df['ScreenName'])\n",
        "distinct_size_sc = len(set(df['ScreenName']))\n",
        "print('================ UserName ================')\n",
        "print(f'Размер столбца UserName:             { size }')\n",
        "print(f'Количество различных значений в нем: { distinct_size }')\n",
        "print('=============== ScreenName ===============')\n",
        "print(f'Размер столбца ScreenName:           { size_sc }')\n",
        "print(f'Количество различных значений в нем: { distinct_size_sc }')"
      ]
    },
    {
      "cell_type": "markdown",
      "metadata": {
        "id": "r8_qR-gnpT3a"
      },
      "source": [
        "**Ответ:** как мы видим, все значения в столбцах UserName и ScreenName различны, а значит и никаких закономерностей в них мы не найдем (все значения независимы друг от друга, это просто идентификаторы пользователей) => **не будем использовать признаки UserName и ScreenName**.\n",
        "\n",
        "---"
      ]
    },
    {
      "cell_type": "markdown",
      "metadata": {
        "id": "ythEcFSkt7y3"
      },
      "source": [
        "Изучите признак TweetAt в обучающей выборке: преобразуйте его к типу datetime и нарисуйте его гистограмму с разделением по цвету на оспнове целевой переменной. Полезен ли он? Если полезен, то закодируйте его, добавьте к матрице с отскалированными признаками, обучите логистическую регрессию, замерьте качество."
      ]
    },
    {
      "cell_type": "code",
      "source": [
        "import datetime\n",
        "\n",
        "format = '%d-%m-%Y'\n",
        "\n",
        "newTweetAt = np.vectorize(lambda value: datetime.datetime.strptime(value, format))(df['TweetAt'])\n",
        "plt.hist(newTweetAt[np.argwhere(df['Sentiment'] == 1)], bins=50, color='green', alpha=0.7)\n",
        "plt.hist(newTweetAt[np.argwhere(df['Sentiment'] != 1)], bins=50, color='red', alpha=0.7)\n",
        "plt.xticks(rotation=45)\n",
        "plt.show()"
      ],
      "metadata": {
        "id": "Lxb_k0JLirNv",
        "colab": {
          "base_uri": "https://localhost:8080/",
          "height": 482
        },
        "outputId": "4cc0dbd8-dd12-450b-83dd-26009f0f52d6"
      },
      "execution_count": 362,
      "outputs": [
        {
          "output_type": "display_data",
          "data": {
            "text/plain": [
              "<Figure size 640x480 with 1 Axes>"
            ],
            "image/png": "[encoded data removed]"
          },
          "metadata": {}
        }
      ]
    },
    {
      "cell_type": "markdown",
      "metadata": {
        "id": "4IdLBdpQxM-G"
      },
      "source": [
        "**Ответ:** можно заметить, что почти во все дни количество отрицательных твитов совпадает с положительными, то есть дата не особо влияет на результат => **TweetAt практически бесполезный, не будем использовать**\n",
        "\n",
        "---\n"
      ]
    },
    {
      "cell_type": "markdown",
      "source": [
        "Поработайте с признаком Location в обучающей выборке. Сколько уникальных значений?"
      ],
      "metadata": {
        "id": "r2JtRPhNP6qx"
      }
    },
    {
      "cell_type": "code",
      "source": [
        "print('Количество уникальных значений в столбце Location: ' + str(len(set(df['Location']))) + '\\n')\n",
        "df['Location'].value_counts()"
      ],
      "metadata": {
        "id": "xYQZQ1FRNpoe",
        "colab": {
          "base_uri": "https://localhost:8080/"
        },
        "outputId": "a6cefea5-5541-46a3-cd19-8eb770f0a5eb"
      },
      "execution_count": 363,
      "outputs": [
        {
          "output_type": "stream",
          "name": "stdout",
          "text": [
            "Количество уникальных значений в столбце Location: 10465\n",
            "\n"
          ]
        },
        {
          "output_type": "execute_result",
          "data": {
            "text/plain": [
              "Location\n",
              "Unknown                         7052\n",
              "London                           435\n",
              "United States                    416\n",
              "London, England                  413\n",
              "Washington, DC                   317\n",
              "                                ... \n",
              "Kolkata & Howrah                   1\n",
              "Egypt/UK                           1\n",
              "Sky Poker obviously                1\n",
              "Somerset, UK                       1\n",
              "3052 Dubois Road, Ithaca, NY       1\n",
              "Name: count, Length: 10465, dtype: int64"
            ]
          },
          "metadata": {},
          "execution_count": 363
        }
      ]
    },
    {
      "cell_type": "markdown",
      "source": [
        "В столбце Location мы видим, что количество уникальных значений в несколько раз меньше, чем количество объектов (10465 значений на 33444 объекта) => есть объекты с одинаковыми значениями (например 435 - London, 416 - United States) и, возможно из этих данных мы сможем получить полезную информацию.\n",
        "\n",
        "Это объясняется и географией, зачастую характеры людей в разных странах отличаются => и их твиты тоже.\n",
        "\n",
        "---"
      ],
      "metadata": {
        "id": "hyqqPOrTV7dY"
      }
    },
    {
      "cell_type": "markdown",
      "source": [
        "Постройте гистограмму топ-10 по популярности местоположений (исключая Unknown)"
      ],
      "metadata": {
        "id": "6k4JwpRTQISa"
      }
    },
    {
      "cell_type": "code",
      "source": [
        "# Достаем местоположения и сколько раз они встречаются (отсортированные)\n",
        "top_location = df['Location'].value_counts()[:11]\n",
        "top_location.drop(index='Unknown', inplace=True)\n",
        "\n",
        "# Строим график\n",
        "plt.figure(figsize=(10,6))\n",
        "plt.title('Most common locations', fontweight='bold')\n",
        "plt.xlabel('Location')\n",
        "plt.ylabel('Number of objects')\n",
        "plt.bar(top_location.index, top_location.values)\n",
        "plt.xticks(rotation=45)\n",
        "plt.show()"
      ],
      "metadata": {
        "id": "J91YkhegJ0mz",
        "colab": {
          "base_uri": "https://localhost:8080/",
          "height": 642
        },
        "outputId": "8e132413-aa63-4a53-f99d-86d6d582c2e4"
      },
      "execution_count": 364,
      "outputs": [
        {
          "output_type": "display_data",
          "data": {
            "text/plain": [
              "<Figure size 1000x600 with 1 Axes>"
            ],
            "image/png": "[encoded data removed]"
          },
          "metadata": {}
        }
      ]
    },
    {
      "cell_type": "markdown",
      "source": [
        "---\n",
        "\n",
        "Видно, что многие местоположения включают в себя более точное название места, чем другие (Например, у некоторых стоит London, UK; а у некоторых просто UK или United Kingdom).\n",
        "\n",
        "Создайте новый признак WiderLocation, который содержит самое широкое местоположение (например, из London, UK должно получиться UK). Сколько уникальных категорий теперь? Постройте аналогичную гистограмму."
      ],
      "metadata": {
        "id": "ZOsv3lODTfYB"
      }
    },
    {
      "cell_type": "code",
      "source": [
        "# Функция обрабатывающая местоположение\n",
        "# Делит название по запятым, берет последнее значение без пробелов\n",
        "# А также немного обрабатывает в ручную частные случаи (например, многие\n",
        "# штаты в США записываются двумя буквами, но все они в Америке: CA, GA, TX...)\n",
        "def defineWiderLocation(location):\n",
        "    location = location.split(',')[-1].strip()\n",
        "    if location in ['Texas', 'New York', 'United States'] or (len(location) == 2 and location == location.upper()):\n",
        "        location = 'USA'\n",
        "    elif location in ['England', 'UK', 'London']:\n",
        "        location = 'United Kingdom'\n",
        "    elif location in ['Ontario']:\n",
        "        location = 'Canada'\n",
        "    return location\n",
        "\n",
        "# Обрабатываем все значения для правильной статистики\n",
        "df['WiderLocation'] = np.vectorize(defineWiderLocation)(df['Location'])\n",
        "print('Новое количество уникальных значений: ' + str(len(set(df['WiderLocation']))))\n",
        "\n",
        "# Также не забываем про наши выборки\n",
        "train['WiderLocation'] = np.vectorize(defineWiderLocation)(train['Location'])\n",
        "test['WiderLocation'] = np.vectorize(defineWiderLocation)(test['Location'])"
      ],
      "metadata": {
        "id": "mSkow6acOMyD",
        "colab": {
          "base_uri": "https://localhost:8080/"
        },
        "outputId": "be75e6fe-670d-4647-cc47-e9211e9fd194"
      },
      "execution_count": 365,
      "outputs": [
        {
          "output_type": "stream",
          "name": "stdout",
          "text": [
            "Новое количество уникальных значений: 6022\n"
          ]
        }
      ]
    },
    {
      "cell_type": "code",
      "source": [
        "# Достаем значения (как раньше)\n",
        "top_location = df['WiderLocation'].value_counts()[:11]\n",
        "top_location.drop(index='Unknown', inplace=True)\n",
        "\n",
        "# Строим график\n",
        "plt.figure(figsize=(10,6))\n",
        "plt.title('Most common new locations', fontweight='bold')\n",
        "plt.xlabel('WiderLocation')\n",
        "plt.ylabel('Number of objects')\n",
        "plt.bar(top_location.index, top_location.values)\n",
        "plt.xticks(rotation=45)\n",
        "plt.show()"
      ],
      "metadata": {
        "colab": {
          "base_uri": "https://localhost:8080/",
          "height": 639
        },
        "id": "HF_TgdVDjfZH",
        "outputId": "97b1da62-ef18-445f-bfb6-c35444707b24"
      },
      "execution_count": 366,
      "outputs": [
        {
          "output_type": "display_data",
          "data": {
            "text/plain": [
              "<Figure size 1000x600 with 1 Axes>"
            ],
            "image/png": "[encoded data removed]"
          },
          "metadata": {}
        }
      ]
    },
    {
      "cell_type": "markdown",
      "source": [
        "Было замечено, что все названия написаны через запятую, поэтому была выбрана стратегия делить по запятой, а затем брать последнее слова и убирать пробелы сначала и конца. Затем вручную были выбраны и соединены самые популярные Локации написанные разными словами. А еще, зачастую штаты в USA записываются двумя заглавными буквами (CA, GA, TX...) и это мы тоже выделили отдельно в United States.\n",
        "\n",
        "Нам удалось сократить количество уникальных значений с 10465 до 6022. По диаграмме также видно, что у нас теперь значения распределены гораздо правильнее (практически по странам).\n",
        "\n",
        "---"
      ],
      "metadata": {
        "id": "oA4urC2RcT_r"
      }
    },
    {
      "cell_type": "markdown",
      "source": [
        "Закодируйте признак WiderLocation с помощью OHE таким образом, чтобы создались только столбцы для местоположений, которые встречаются более одного раза. Сколько таких значений?\n"
      ],
      "metadata": {
        "id": "cgyWrD2eVfff"
      }
    },
    {
      "cell_type": "code",
      "source": [
        "from sklearn.preprocessing import OneHotEncoder\n",
        "\n",
        "# Инициализируем энкодер\n",
        "encoder = OneHotEncoder(sparse_output=False, dtype=bool, min_frequency=2)\n",
        "\n",
        "# Обучаем энкодер на всей выборке, так как в тесте могут быть новые значения,\n",
        "# необработанные при обучении на трэйне\n",
        "encoder.fit(df[['WiderLocation']])\n",
        "\n",
        "# Получаем закодированный train\n",
        "ohe_train = encoder.transform(train[['WiderLocation']])\n",
        "ohe_df_train = pd.DataFrame(ohe_train, columns=encoder.get_feature_names_out(['WiderLocation']))\n",
        "\n",
        "# Получаем закодированный test\n",
        "ohe_test = encoder.transform(test[['WiderLocation']])\n",
        "ohe_df_test = pd.DataFrame(ohe_test, columns=encoder.get_feature_names_out(['WiderLocation']))\n",
        "\n",
        "print(f'Различных значений местоположения, которые встречаются более одного раза: {ohe_df_train.shape[1]}')\n",
        "print('(Для всей выборки!!)')"
      ],
      "metadata": {
        "id": "SeJBfBWgPvg_",
        "colab": {
          "base_uri": "https://localhost:8080/"
        },
        "outputId": "07b39d54-e5f8-4627-a808-5e31a6b463b5"
      },
      "execution_count": 367,
      "outputs": [
        {
          "output_type": "stream",
          "name": "stdout",
          "text": [
            "Различных значений местоположения, которые встречаются более одного раза: 1232\n",
            "(Для всей выборки!!)\n"
          ]
        }
      ]
    },
    {
      "cell_type": "markdown",
      "source": [
        "Добавьте этот признак к матрице отскалированных текстовых признаков, обучите логистическую регрессию, замерьте качество. Как оно изменилось? Оказался ли признак полезным?\n",
        "\n",
        "\n",
        "*Подсказка:* используйте параметр `categories` в энкодере."
      ],
      "metadata": {
        "id": "ZyMX5kZuimPK"
      }
    },
    {
      "cell_type": "code",
      "source": [
        "X_train_scaled_df = pd.DataFrame(X_train_scaled, columns=scaler.get_feature_names_out()).reset_index()\n",
        "X_test_scaled_df = pd.DataFrame(X_test_scaled, columns=scaler.get_feature_names_out()).reset_index()\n",
        "\n",
        "X_train_scaled_encoded = pd.concat([X_train_scaled_df, ohe_df_train], axis=1)\n",
        "X_test_scaled_encoded = pd.concat([X_test_scaled_df, ohe_df_test], axis=1)"
      ],
      "metadata": {
        "id": "J1HjRWWVsA4c"
      },
      "execution_count": 368,
      "outputs": []
    },
    {
      "cell_type": "code",
      "source": [
        "model_cv = LogisticRegression()\n",
        "model_cv.fit(X_train_scaled_encoded, y_train)\n",
        "\n",
        "y_train_pred = model_cv.predict(X_train_scaled_encoded)\n",
        "y_test_pred = model_cv.predict(X_test_scaled_encoded)\n",
        "print(f'Accuracy on train:  {accuracy_score(y_train, y_train_pred):.3f}')\n",
        "print(f'Accuracy on test:   {accuracy_score(y_test, y_test_pred):.3f}')"
      ],
      "metadata": {
        "id": "EO1jNPeeim7A",
        "colab": {
          "base_uri": "https://localhost:8080/"
        },
        "outputId": "bdaf78f0-85df-4621-a434-45d7b1abd23e"
      },
      "execution_count": 369,
      "outputs": [
        {
          "output_type": "stream",
          "name": "stdout",
          "text": [
            "Accuracy on train:  0.941\n",
            "Accuracy on test:   0.846\n"
          ]
        }
      ]
    },
    {
      "cell_type": "markdown",
      "source": [
        "**Ответ:** сравним с предыдущим результатом:\n",
        "\n",
        "```\n",
        "                    Previous  Current\n",
        "Accuracy on train:  0.963     0.941\n",
        "Accuracy on test:   0.827     0.846\n",
        "```\n",
        "\n",
        "Как мы видим, теперь мы еще меньше подгоняемся под обучающую выборку (модель менее переобученная) + увеличилось качество на тесте. То есть, такая модель хорошая, а признак оказался полезным!"
      ],
      "metadata": {
        "id": "7dHsGlDRYUQt"
      }
    },
    {
      "cell_type": "markdown",
      "source": [
        "**Хорошего дня!**"
      ],
      "metadata": {
        "id": "oXoi9TlOsxnO"
      }
    },
    {
      "cell_type": "markdown",
      "source": [
        "## Задание 8 Хорошее качество (Бонус 1 балл)"
      ],
      "metadata": {
        "id": "IWn6h4W9eD3S"
      }
    },
    {
      "cell_type": "markdown",
      "source": [
        "Добейтесь accuracy=0.9 на тестовой выборке (можно сменить токенайзер, векторайзер, модель и т.д.)"
      ],
      "metadata": {
        "id": "-HDI0SU6eLgi"
      }
    },
    {
      "cell_type": "code",
      "source": [
        "# -- YOUR CODE HERE --"
      ],
      "metadata": {
        "id": "k3WMbE8edhlW"
      },
      "execution_count": 370,
      "outputs": []
    }
  ],
  "metadata": {
    "colab": {
      "provenance": [],
      "collapsed_sections": [
        "J9RrPUsJlL60"
      ],
      "gpuType": "T4"
    },
    "kernelspec": {
      "display_name": "Python 3",
      "name": "python3"
    },
    "language_info": {
      "name": "python"
    },
    "accelerator": "GPU"
  },
  "nbformat": 4,
  "nbformat_minor": 0
}